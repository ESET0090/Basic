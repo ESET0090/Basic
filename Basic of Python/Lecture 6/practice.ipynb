{
 "cells": [
  {
   "cell_type": "markdown",
   "id": "bf55392b",
   "metadata": {},
   "source": [
    "## EDA"
   ]
  },
  {
   "cell_type": "code",
   "execution_count": 63,
   "id": "81c513c3",
   "metadata": {},
   "outputs": [],
   "source": [
    "import pandas as pd\n",
    "import numpy as np\n",
    "import matplotlib.pyplot as plt\n",
    "import seaborn as sns"
   ]
  },
  {
   "cell_type": "code",
   "execution_count": 64,
   "id": "5758fb12",
   "metadata": {},
   "outputs": [],
   "source": [
    "df = pd.read_csv('data.csv')"
   ]
  },
  {
   "cell_type": "markdown",
   "id": "1ead29d5",
   "metadata": {},
   "source": [
    "## Descriptive Analysis"
   ]
  },
  {
   "cell_type": "code",
   "execution_count": 4,
   "id": "a3935c8f",
   "metadata": {},
   "outputs": [
    {
     "data": {
      "text/html": [
       "<div>\n",
       "<style scoped>\n",
       "    .dataframe tbody tr th:only-of-type {\n",
       "        vertical-align: middle;\n",
       "    }\n",
       "\n",
       "    .dataframe tbody tr th {\n",
       "        vertical-align: top;\n",
       "    }\n",
       "\n",
       "    .dataframe thead th {\n",
       "        text-align: right;\n",
       "    }\n",
       "</style>\n",
       "<table border=\"1\" class=\"dataframe\">\n",
       "  <thead>\n",
       "    <tr style=\"text-align: right;\">\n",
       "      <th></th>\n",
       "      <th>Make</th>\n",
       "      <th>Model</th>\n",
       "      <th>Year</th>\n",
       "      <th>Engine Fuel Type</th>\n",
       "      <th>Engine HP</th>\n",
       "      <th>Engine Cylinders</th>\n",
       "      <th>Transmission Type</th>\n",
       "      <th>Driven_Wheels</th>\n",
       "      <th>Number of Doors</th>\n",
       "      <th>Market Category</th>\n",
       "      <th>Vehicle Size</th>\n",
       "      <th>Vehicle Style</th>\n",
       "      <th>highway MPG</th>\n",
       "      <th>city mpg</th>\n",
       "      <th>Popularity</th>\n",
       "      <th>MSRP</th>\n",
       "    </tr>\n",
       "  </thead>\n",
       "  <tbody>\n",
       "    <tr>\n",
       "      <th>0</th>\n",
       "      <td>BMW</td>\n",
       "      <td>1 Series M</td>\n",
       "      <td>2011</td>\n",
       "      <td>premium unleaded (required)</td>\n",
       "      <td>335.0</td>\n",
       "      <td>6.0</td>\n",
       "      <td>MANUAL</td>\n",
       "      <td>rear wheel drive</td>\n",
       "      <td>2.0</td>\n",
       "      <td>Factory Tuner,Luxury,High-Performance</td>\n",
       "      <td>Compact</td>\n",
       "      <td>Coupe</td>\n",
       "      <td>26</td>\n",
       "      <td>19</td>\n",
       "      <td>3916</td>\n",
       "      <td>46135</td>\n",
       "    </tr>\n",
       "    <tr>\n",
       "      <th>1</th>\n",
       "      <td>BMW</td>\n",
       "      <td>1 Series</td>\n",
       "      <td>2011</td>\n",
       "      <td>premium unleaded (required)</td>\n",
       "      <td>300.0</td>\n",
       "      <td>6.0</td>\n",
       "      <td>MANUAL</td>\n",
       "      <td>rear wheel drive</td>\n",
       "      <td>2.0</td>\n",
       "      <td>Luxury,Performance</td>\n",
       "      <td>Compact</td>\n",
       "      <td>Convertible</td>\n",
       "      <td>28</td>\n",
       "      <td>19</td>\n",
       "      <td>3916</td>\n",
       "      <td>40650</td>\n",
       "    </tr>\n",
       "    <tr>\n",
       "      <th>2</th>\n",
       "      <td>BMW</td>\n",
       "      <td>1 Series</td>\n",
       "      <td>2011</td>\n",
       "      <td>premium unleaded (required)</td>\n",
       "      <td>300.0</td>\n",
       "      <td>6.0</td>\n",
       "      <td>MANUAL</td>\n",
       "      <td>rear wheel drive</td>\n",
       "      <td>2.0</td>\n",
       "      <td>Luxury,High-Performance</td>\n",
       "      <td>Compact</td>\n",
       "      <td>Coupe</td>\n",
       "      <td>28</td>\n",
       "      <td>20</td>\n",
       "      <td>3916</td>\n",
       "      <td>36350</td>\n",
       "    </tr>\n",
       "    <tr>\n",
       "      <th>3</th>\n",
       "      <td>BMW</td>\n",
       "      <td>1 Series</td>\n",
       "      <td>2011</td>\n",
       "      <td>premium unleaded (required)</td>\n",
       "      <td>230.0</td>\n",
       "      <td>6.0</td>\n",
       "      <td>MANUAL</td>\n",
       "      <td>rear wheel drive</td>\n",
       "      <td>2.0</td>\n",
       "      <td>Luxury,Performance</td>\n",
       "      <td>Compact</td>\n",
       "      <td>Coupe</td>\n",
       "      <td>28</td>\n",
       "      <td>18</td>\n",
       "      <td>3916</td>\n",
       "      <td>29450</td>\n",
       "    </tr>\n",
       "    <tr>\n",
       "      <th>4</th>\n",
       "      <td>BMW</td>\n",
       "      <td>1 Series</td>\n",
       "      <td>2011</td>\n",
       "      <td>premium unleaded (required)</td>\n",
       "      <td>230.0</td>\n",
       "      <td>6.0</td>\n",
       "      <td>MANUAL</td>\n",
       "      <td>rear wheel drive</td>\n",
       "      <td>2.0</td>\n",
       "      <td>Luxury</td>\n",
       "      <td>Compact</td>\n",
       "      <td>Convertible</td>\n",
       "      <td>28</td>\n",
       "      <td>18</td>\n",
       "      <td>3916</td>\n",
       "      <td>34500</td>\n",
       "    </tr>\n",
       "  </tbody>\n",
       "</table>\n",
       "</div>"
      ],
      "text/plain": [
       "  Make       Model  Year             Engine Fuel Type  Engine HP  \\\n",
       "0  BMW  1 Series M  2011  premium unleaded (required)      335.0   \n",
       "1  BMW    1 Series  2011  premium unleaded (required)      300.0   \n",
       "2  BMW    1 Series  2011  premium unleaded (required)      300.0   \n",
       "3  BMW    1 Series  2011  premium unleaded (required)      230.0   \n",
       "4  BMW    1 Series  2011  premium unleaded (required)      230.0   \n",
       "\n",
       "   Engine Cylinders Transmission Type     Driven_Wheels  Number of Doors  \\\n",
       "0               6.0            MANUAL  rear wheel drive              2.0   \n",
       "1               6.0            MANUAL  rear wheel drive              2.0   \n",
       "2               6.0            MANUAL  rear wheel drive              2.0   \n",
       "3               6.0            MANUAL  rear wheel drive              2.0   \n",
       "4               6.0            MANUAL  rear wheel drive              2.0   \n",
       "\n",
       "                         Market Category Vehicle Size Vehicle Style  \\\n",
       "0  Factory Tuner,Luxury,High-Performance      Compact         Coupe   \n",
       "1                     Luxury,Performance      Compact   Convertible   \n",
       "2                Luxury,High-Performance      Compact         Coupe   \n",
       "3                     Luxury,Performance      Compact         Coupe   \n",
       "4                                 Luxury      Compact   Convertible   \n",
       "\n",
       "   highway MPG  city mpg  Popularity   MSRP  \n",
       "0           26        19        3916  46135  \n",
       "1           28        19        3916  40650  \n",
       "2           28        20        3916  36350  \n",
       "3           28        18        3916  29450  \n",
       "4           28        18        3916  34500  "
      ]
     },
     "execution_count": 4,
     "metadata": {},
     "output_type": "execute_result"
    }
   ],
   "source": [
    "df.head()"
   ]
  },
  {
   "cell_type": "code",
   "execution_count": 5,
   "id": "8953b604",
   "metadata": {},
   "outputs": [
    {
     "data": {
      "text/html": [
       "<div>\n",
       "<style scoped>\n",
       "    .dataframe tbody tr th:only-of-type {\n",
       "        vertical-align: middle;\n",
       "    }\n",
       "\n",
       "    .dataframe tbody tr th {\n",
       "        vertical-align: top;\n",
       "    }\n",
       "\n",
       "    .dataframe thead th {\n",
       "        text-align: right;\n",
       "    }\n",
       "</style>\n",
       "<table border=\"1\" class=\"dataframe\">\n",
       "  <thead>\n",
       "    <tr style=\"text-align: right;\">\n",
       "      <th></th>\n",
       "      <th>Make</th>\n",
       "      <th>Model</th>\n",
       "      <th>Year</th>\n",
       "      <th>Engine Fuel Type</th>\n",
       "      <th>Engine HP</th>\n",
       "      <th>Engine Cylinders</th>\n",
       "      <th>Transmission Type</th>\n",
       "      <th>Driven_Wheels</th>\n",
       "      <th>Number of Doors</th>\n",
       "      <th>Market Category</th>\n",
       "      <th>Vehicle Size</th>\n",
       "      <th>Vehicle Style</th>\n",
       "      <th>highway MPG</th>\n",
       "      <th>city mpg</th>\n",
       "      <th>Popularity</th>\n",
       "      <th>MSRP</th>\n",
       "    </tr>\n",
       "  </thead>\n",
       "  <tbody>\n",
       "    <tr>\n",
       "      <th>11909</th>\n",
       "      <td>Acura</td>\n",
       "      <td>ZDX</td>\n",
       "      <td>2012</td>\n",
       "      <td>premium unleaded (required)</td>\n",
       "      <td>300.0</td>\n",
       "      <td>6.0</td>\n",
       "      <td>AUTOMATIC</td>\n",
       "      <td>all wheel drive</td>\n",
       "      <td>4.0</td>\n",
       "      <td>Crossover,Hatchback,Luxury</td>\n",
       "      <td>Midsize</td>\n",
       "      <td>4dr Hatchback</td>\n",
       "      <td>23</td>\n",
       "      <td>16</td>\n",
       "      <td>204</td>\n",
       "      <td>46120</td>\n",
       "    </tr>\n",
       "    <tr>\n",
       "      <th>11910</th>\n",
       "      <td>Acura</td>\n",
       "      <td>ZDX</td>\n",
       "      <td>2012</td>\n",
       "      <td>premium unleaded (required)</td>\n",
       "      <td>300.0</td>\n",
       "      <td>6.0</td>\n",
       "      <td>AUTOMATIC</td>\n",
       "      <td>all wheel drive</td>\n",
       "      <td>4.0</td>\n",
       "      <td>Crossover,Hatchback,Luxury</td>\n",
       "      <td>Midsize</td>\n",
       "      <td>4dr Hatchback</td>\n",
       "      <td>23</td>\n",
       "      <td>16</td>\n",
       "      <td>204</td>\n",
       "      <td>56670</td>\n",
       "    </tr>\n",
       "    <tr>\n",
       "      <th>11911</th>\n",
       "      <td>Acura</td>\n",
       "      <td>ZDX</td>\n",
       "      <td>2012</td>\n",
       "      <td>premium unleaded (required)</td>\n",
       "      <td>300.0</td>\n",
       "      <td>6.0</td>\n",
       "      <td>AUTOMATIC</td>\n",
       "      <td>all wheel drive</td>\n",
       "      <td>4.0</td>\n",
       "      <td>Crossover,Hatchback,Luxury</td>\n",
       "      <td>Midsize</td>\n",
       "      <td>4dr Hatchback</td>\n",
       "      <td>23</td>\n",
       "      <td>16</td>\n",
       "      <td>204</td>\n",
       "      <td>50620</td>\n",
       "    </tr>\n",
       "    <tr>\n",
       "      <th>11912</th>\n",
       "      <td>Acura</td>\n",
       "      <td>ZDX</td>\n",
       "      <td>2013</td>\n",
       "      <td>premium unleaded (recommended)</td>\n",
       "      <td>300.0</td>\n",
       "      <td>6.0</td>\n",
       "      <td>AUTOMATIC</td>\n",
       "      <td>all wheel drive</td>\n",
       "      <td>4.0</td>\n",
       "      <td>Crossover,Hatchback,Luxury</td>\n",
       "      <td>Midsize</td>\n",
       "      <td>4dr Hatchback</td>\n",
       "      <td>23</td>\n",
       "      <td>16</td>\n",
       "      <td>204</td>\n",
       "      <td>50920</td>\n",
       "    </tr>\n",
       "    <tr>\n",
       "      <th>11913</th>\n",
       "      <td>Lincoln</td>\n",
       "      <td>Zephyr</td>\n",
       "      <td>2006</td>\n",
       "      <td>regular unleaded</td>\n",
       "      <td>221.0</td>\n",
       "      <td>6.0</td>\n",
       "      <td>AUTOMATIC</td>\n",
       "      <td>front wheel drive</td>\n",
       "      <td>4.0</td>\n",
       "      <td>Luxury</td>\n",
       "      <td>Midsize</td>\n",
       "      <td>Sedan</td>\n",
       "      <td>26</td>\n",
       "      <td>17</td>\n",
       "      <td>61</td>\n",
       "      <td>28995</td>\n",
       "    </tr>\n",
       "  </tbody>\n",
       "</table>\n",
       "</div>"
      ],
      "text/plain": [
       "          Make   Model  Year                Engine Fuel Type  Engine HP  \\\n",
       "11909    Acura     ZDX  2012     premium unleaded (required)      300.0   \n",
       "11910    Acura     ZDX  2012     premium unleaded (required)      300.0   \n",
       "11911    Acura     ZDX  2012     premium unleaded (required)      300.0   \n",
       "11912    Acura     ZDX  2013  premium unleaded (recommended)      300.0   \n",
       "11913  Lincoln  Zephyr  2006                regular unleaded      221.0   \n",
       "\n",
       "       Engine Cylinders Transmission Type      Driven_Wheels  Number of Doors  \\\n",
       "11909               6.0         AUTOMATIC    all wheel drive              4.0   \n",
       "11910               6.0         AUTOMATIC    all wheel drive              4.0   \n",
       "11911               6.0         AUTOMATIC    all wheel drive              4.0   \n",
       "11912               6.0         AUTOMATIC    all wheel drive              4.0   \n",
       "11913               6.0         AUTOMATIC  front wheel drive              4.0   \n",
       "\n",
       "                  Market Category Vehicle Size  Vehicle Style  highway MPG  \\\n",
       "11909  Crossover,Hatchback,Luxury      Midsize  4dr Hatchback           23   \n",
       "11910  Crossover,Hatchback,Luxury      Midsize  4dr Hatchback           23   \n",
       "11911  Crossover,Hatchback,Luxury      Midsize  4dr Hatchback           23   \n",
       "11912  Crossover,Hatchback,Luxury      Midsize  4dr Hatchback           23   \n",
       "11913                      Luxury      Midsize          Sedan           26   \n",
       "\n",
       "       city mpg  Popularity   MSRP  \n",
       "11909        16         204  46120  \n",
       "11910        16         204  56670  \n",
       "11911        16         204  50620  \n",
       "11912        16         204  50920  \n",
       "11913        17          61  28995  "
      ]
     },
     "execution_count": 5,
     "metadata": {},
     "output_type": "execute_result"
    }
   ],
   "source": [
    "df.tail()"
   ]
  },
  {
   "cell_type": "code",
   "execution_count": 6,
   "id": "306a7b27",
   "metadata": {},
   "outputs": [
    {
     "name": "stdout",
     "output_type": "stream",
     "text": [
      "(11914, 16)\n"
     ]
    }
   ],
   "source": [
    "print(df.shape)"
   ]
  },
  {
   "cell_type": "code",
   "execution_count": 7,
   "id": "077c7f43",
   "metadata": {},
   "outputs": [
    {
     "name": "stdout",
     "output_type": "stream",
     "text": [
      "Make                  object\n",
      "Model                 object\n",
      "Year                   int64\n",
      "Engine Fuel Type      object\n",
      "Engine HP            float64\n",
      "Engine Cylinders     float64\n",
      "Transmission Type     object\n",
      "Driven_Wheels         object\n",
      "Number of Doors      float64\n",
      "Market Category       object\n",
      "Vehicle Size          object\n",
      "Vehicle Style         object\n",
      "highway MPG            int64\n",
      "city mpg               int64\n",
      "Popularity             int64\n",
      "MSRP                   int64\n",
      "dtype: object\n"
     ]
    }
   ],
   "source": [
    "print(df.dtypes)"
   ]
  },
  {
   "cell_type": "code",
   "execution_count": 8,
   "id": "a6a042fa",
   "metadata": {},
   "outputs": [
    {
     "data": {
      "text/html": [
       "<div>\n",
       "<style scoped>\n",
       "    .dataframe tbody tr th:only-of-type {\n",
       "        vertical-align: middle;\n",
       "    }\n",
       "\n",
       "    .dataframe tbody tr th {\n",
       "        vertical-align: top;\n",
       "    }\n",
       "\n",
       "    .dataframe thead th {\n",
       "        text-align: right;\n",
       "    }\n",
       "</style>\n",
       "<table border=\"1\" class=\"dataframe\">\n",
       "  <thead>\n",
       "    <tr style=\"text-align: right;\">\n",
       "      <th></th>\n",
       "      <th>Year</th>\n",
       "      <th>Engine HP</th>\n",
       "      <th>Engine Cylinders</th>\n",
       "      <th>Number of Doors</th>\n",
       "      <th>highway MPG</th>\n",
       "      <th>city mpg</th>\n",
       "      <th>Popularity</th>\n",
       "      <th>MSRP</th>\n",
       "    </tr>\n",
       "  </thead>\n",
       "  <tbody>\n",
       "    <tr>\n",
       "      <th>count</th>\n",
       "      <td>11914.000000</td>\n",
       "      <td>11845.00000</td>\n",
       "      <td>11884.000000</td>\n",
       "      <td>11908.000000</td>\n",
       "      <td>11914.000000</td>\n",
       "      <td>11914.000000</td>\n",
       "      <td>11914.000000</td>\n",
       "      <td>1.191400e+04</td>\n",
       "    </tr>\n",
       "    <tr>\n",
       "      <th>mean</th>\n",
       "      <td>2010.384338</td>\n",
       "      <td>249.38607</td>\n",
       "      <td>5.628829</td>\n",
       "      <td>3.436093</td>\n",
       "      <td>26.637485</td>\n",
       "      <td>19.733255</td>\n",
       "      <td>1554.911197</td>\n",
       "      <td>4.059474e+04</td>\n",
       "    </tr>\n",
       "    <tr>\n",
       "      <th>std</th>\n",
       "      <td>7.579740</td>\n",
       "      <td>109.19187</td>\n",
       "      <td>1.780559</td>\n",
       "      <td>0.881315</td>\n",
       "      <td>8.863001</td>\n",
       "      <td>8.987798</td>\n",
       "      <td>1441.855347</td>\n",
       "      <td>6.010910e+04</td>\n",
       "    </tr>\n",
       "    <tr>\n",
       "      <th>min</th>\n",
       "      <td>1990.000000</td>\n",
       "      <td>55.00000</td>\n",
       "      <td>0.000000</td>\n",
       "      <td>2.000000</td>\n",
       "      <td>12.000000</td>\n",
       "      <td>7.000000</td>\n",
       "      <td>2.000000</td>\n",
       "      <td>2.000000e+03</td>\n",
       "    </tr>\n",
       "    <tr>\n",
       "      <th>25%</th>\n",
       "      <td>2007.000000</td>\n",
       "      <td>170.00000</td>\n",
       "      <td>4.000000</td>\n",
       "      <td>2.000000</td>\n",
       "      <td>22.000000</td>\n",
       "      <td>16.000000</td>\n",
       "      <td>549.000000</td>\n",
       "      <td>2.100000e+04</td>\n",
       "    </tr>\n",
       "    <tr>\n",
       "      <th>50%</th>\n",
       "      <td>2015.000000</td>\n",
       "      <td>227.00000</td>\n",
       "      <td>6.000000</td>\n",
       "      <td>4.000000</td>\n",
       "      <td>26.000000</td>\n",
       "      <td>18.000000</td>\n",
       "      <td>1385.000000</td>\n",
       "      <td>2.999500e+04</td>\n",
       "    </tr>\n",
       "    <tr>\n",
       "      <th>75%</th>\n",
       "      <td>2016.000000</td>\n",
       "      <td>300.00000</td>\n",
       "      <td>6.000000</td>\n",
       "      <td>4.000000</td>\n",
       "      <td>30.000000</td>\n",
       "      <td>22.000000</td>\n",
       "      <td>2009.000000</td>\n",
       "      <td>4.223125e+04</td>\n",
       "    </tr>\n",
       "    <tr>\n",
       "      <th>max</th>\n",
       "      <td>2017.000000</td>\n",
       "      <td>1001.00000</td>\n",
       "      <td>16.000000</td>\n",
       "      <td>4.000000</td>\n",
       "      <td>354.000000</td>\n",
       "      <td>137.000000</td>\n",
       "      <td>5657.000000</td>\n",
       "      <td>2.065902e+06</td>\n",
       "    </tr>\n",
       "  </tbody>\n",
       "</table>\n",
       "</div>"
      ],
      "text/plain": [
       "               Year    Engine HP  Engine Cylinders  Number of Doors  \\\n",
       "count  11914.000000  11845.00000      11884.000000     11908.000000   \n",
       "mean    2010.384338    249.38607          5.628829         3.436093   \n",
       "std        7.579740    109.19187          1.780559         0.881315   \n",
       "min     1990.000000     55.00000          0.000000         2.000000   \n",
       "25%     2007.000000    170.00000          4.000000         2.000000   \n",
       "50%     2015.000000    227.00000          6.000000         4.000000   \n",
       "75%     2016.000000    300.00000          6.000000         4.000000   \n",
       "max     2017.000000   1001.00000         16.000000         4.000000   \n",
       "\n",
       "        highway MPG      city mpg    Popularity          MSRP  \n",
       "count  11914.000000  11914.000000  11914.000000  1.191400e+04  \n",
       "mean      26.637485     19.733255   1554.911197  4.059474e+04  \n",
       "std        8.863001      8.987798   1441.855347  6.010910e+04  \n",
       "min       12.000000      7.000000      2.000000  2.000000e+03  \n",
       "25%       22.000000     16.000000    549.000000  2.100000e+04  \n",
       "50%       26.000000     18.000000   1385.000000  2.999500e+04  \n",
       "75%       30.000000     22.000000   2009.000000  4.223125e+04  \n",
       "max      354.000000    137.000000   5657.000000  2.065902e+06  "
      ]
     },
     "execution_count": 8,
     "metadata": {},
     "output_type": "execute_result"
    }
   ],
   "source": [
    "df.describe()"
   ]
  },
  {
   "cell_type": "code",
   "execution_count": 12,
   "id": "eef0abc2",
   "metadata": {},
   "outputs": [],
   "source": [
    "df_dropped = df.drop(['Engine Fuel Type','Market Category','Vehicle Style','Popularity','Number of Doors','Vehicle Size'], axis=1)"
   ]
  },
  {
   "cell_type": "code",
   "execution_count": 13,
   "id": "a7cb04ac",
   "metadata": {},
   "outputs": [
    {
     "data": {
      "text/html": [
       "<div>\n",
       "<style scoped>\n",
       "    .dataframe tbody tr th:only-of-type {\n",
       "        vertical-align: middle;\n",
       "    }\n",
       "\n",
       "    .dataframe tbody tr th {\n",
       "        vertical-align: top;\n",
       "    }\n",
       "\n",
       "    .dataframe thead th {\n",
       "        text-align: right;\n",
       "    }\n",
       "</style>\n",
       "<table border=\"1\" class=\"dataframe\">\n",
       "  <thead>\n",
       "    <tr style=\"text-align: right;\">\n",
       "      <th></th>\n",
       "      <th>Make</th>\n",
       "      <th>Model</th>\n",
       "      <th>Year</th>\n",
       "      <th>Engine HP</th>\n",
       "      <th>Engine Cylinders</th>\n",
       "      <th>Transmission Type</th>\n",
       "      <th>Driven_Wheels</th>\n",
       "      <th>highway MPG</th>\n",
       "      <th>city mpg</th>\n",
       "      <th>MSRP</th>\n",
       "    </tr>\n",
       "  </thead>\n",
       "  <tbody>\n",
       "    <tr>\n",
       "      <th>0</th>\n",
       "      <td>BMW</td>\n",
       "      <td>1 Series M</td>\n",
       "      <td>2011</td>\n",
       "      <td>335.0</td>\n",
       "      <td>6.0</td>\n",
       "      <td>MANUAL</td>\n",
       "      <td>rear wheel drive</td>\n",
       "      <td>26</td>\n",
       "      <td>19</td>\n",
       "      <td>46135</td>\n",
       "    </tr>\n",
       "    <tr>\n",
       "      <th>1</th>\n",
       "      <td>BMW</td>\n",
       "      <td>1 Series</td>\n",
       "      <td>2011</td>\n",
       "      <td>300.0</td>\n",
       "      <td>6.0</td>\n",
       "      <td>MANUAL</td>\n",
       "      <td>rear wheel drive</td>\n",
       "      <td>28</td>\n",
       "      <td>19</td>\n",
       "      <td>40650</td>\n",
       "    </tr>\n",
       "    <tr>\n",
       "      <th>2</th>\n",
       "      <td>BMW</td>\n",
       "      <td>1 Series</td>\n",
       "      <td>2011</td>\n",
       "      <td>300.0</td>\n",
       "      <td>6.0</td>\n",
       "      <td>MANUAL</td>\n",
       "      <td>rear wheel drive</td>\n",
       "      <td>28</td>\n",
       "      <td>20</td>\n",
       "      <td>36350</td>\n",
       "    </tr>\n",
       "    <tr>\n",
       "      <th>3</th>\n",
       "      <td>BMW</td>\n",
       "      <td>1 Series</td>\n",
       "      <td>2011</td>\n",
       "      <td>230.0</td>\n",
       "      <td>6.0</td>\n",
       "      <td>MANUAL</td>\n",
       "      <td>rear wheel drive</td>\n",
       "      <td>28</td>\n",
       "      <td>18</td>\n",
       "      <td>29450</td>\n",
       "    </tr>\n",
       "    <tr>\n",
       "      <th>4</th>\n",
       "      <td>BMW</td>\n",
       "      <td>1 Series</td>\n",
       "      <td>2011</td>\n",
       "      <td>230.0</td>\n",
       "      <td>6.0</td>\n",
       "      <td>MANUAL</td>\n",
       "      <td>rear wheel drive</td>\n",
       "      <td>28</td>\n",
       "      <td>18</td>\n",
       "      <td>34500</td>\n",
       "    </tr>\n",
       "  </tbody>\n",
       "</table>\n",
       "</div>"
      ],
      "text/plain": [
       "  Make       Model  Year  Engine HP  Engine Cylinders Transmission Type  \\\n",
       "0  BMW  1 Series M  2011      335.0               6.0            MANUAL   \n",
       "1  BMW    1 Series  2011      300.0               6.0            MANUAL   \n",
       "2  BMW    1 Series  2011      300.0               6.0            MANUAL   \n",
       "3  BMW    1 Series  2011      230.0               6.0            MANUAL   \n",
       "4  BMW    1 Series  2011      230.0               6.0            MANUAL   \n",
       "\n",
       "      Driven_Wheels  highway MPG  city mpg   MSRP  \n",
       "0  rear wheel drive           26        19  46135  \n",
       "1  rear wheel drive           28        19  40650  \n",
       "2  rear wheel drive           28        20  36350  \n",
       "3  rear wheel drive           28        18  29450  \n",
       "4  rear wheel drive           28        18  34500  "
      ]
     },
     "execution_count": 13,
     "metadata": {},
     "output_type": "execute_result"
    }
   ],
   "source": [
    "df_dropped.head()"
   ]
  },
  {
   "cell_type": "code",
   "execution_count": 15,
   "id": "4066a683",
   "metadata": {},
   "outputs": [
    {
     "data": {
      "text/plain": [
       "(11914, 10)"
      ]
     },
     "execution_count": 15,
     "metadata": {},
     "output_type": "execute_result"
    }
   ],
   "source": [
    "df_dropped.shape"
   ]
  },
  {
   "cell_type": "code",
   "execution_count": 19,
   "id": "d482e37b",
   "metadata": {},
   "outputs": [],
   "source": [
    "df1 = df_dropped.rename(columns={'Engine HP': 'HP', 'Engine Cylinders': 'Cylinders', 'Transmission Type':'Transmission Type'})"
   ]
  },
  {
   "cell_type": "code",
   "execution_count": 20,
   "id": "8e3bef72",
   "metadata": {},
   "outputs": [
    {
     "data": {
      "text/html": [
       "<div>\n",
       "<style scoped>\n",
       "    .dataframe tbody tr th:only-of-type {\n",
       "        vertical-align: middle;\n",
       "    }\n",
       "\n",
       "    .dataframe tbody tr th {\n",
       "        vertical-align: top;\n",
       "    }\n",
       "\n",
       "    .dataframe thead th {\n",
       "        text-align: right;\n",
       "    }\n",
       "</style>\n",
       "<table border=\"1\" class=\"dataframe\">\n",
       "  <thead>\n",
       "    <tr style=\"text-align: right;\">\n",
       "      <th></th>\n",
       "      <th>Make</th>\n",
       "      <th>Model</th>\n",
       "      <th>Year</th>\n",
       "      <th>HP</th>\n",
       "      <th>Cylinders</th>\n",
       "      <th>Transmission Type</th>\n",
       "      <th>Driven_Wheels</th>\n",
       "      <th>highway MPG</th>\n",
       "      <th>city mpg</th>\n",
       "      <th>MSRP</th>\n",
       "    </tr>\n",
       "  </thead>\n",
       "  <tbody>\n",
       "    <tr>\n",
       "      <th>0</th>\n",
       "      <td>BMW</td>\n",
       "      <td>1 Series M</td>\n",
       "      <td>2011</td>\n",
       "      <td>335.0</td>\n",
       "      <td>6.0</td>\n",
       "      <td>MANUAL</td>\n",
       "      <td>rear wheel drive</td>\n",
       "      <td>26</td>\n",
       "      <td>19</td>\n",
       "      <td>46135</td>\n",
       "    </tr>\n",
       "    <tr>\n",
       "      <th>1</th>\n",
       "      <td>BMW</td>\n",
       "      <td>1 Series</td>\n",
       "      <td>2011</td>\n",
       "      <td>300.0</td>\n",
       "      <td>6.0</td>\n",
       "      <td>MANUAL</td>\n",
       "      <td>rear wheel drive</td>\n",
       "      <td>28</td>\n",
       "      <td>19</td>\n",
       "      <td>40650</td>\n",
       "    </tr>\n",
       "    <tr>\n",
       "      <th>2</th>\n",
       "      <td>BMW</td>\n",
       "      <td>1 Series</td>\n",
       "      <td>2011</td>\n",
       "      <td>300.0</td>\n",
       "      <td>6.0</td>\n",
       "      <td>MANUAL</td>\n",
       "      <td>rear wheel drive</td>\n",
       "      <td>28</td>\n",
       "      <td>20</td>\n",
       "      <td>36350</td>\n",
       "    </tr>\n",
       "    <tr>\n",
       "      <th>3</th>\n",
       "      <td>BMW</td>\n",
       "      <td>1 Series</td>\n",
       "      <td>2011</td>\n",
       "      <td>230.0</td>\n",
       "      <td>6.0</td>\n",
       "      <td>MANUAL</td>\n",
       "      <td>rear wheel drive</td>\n",
       "      <td>28</td>\n",
       "      <td>18</td>\n",
       "      <td>29450</td>\n",
       "    </tr>\n",
       "    <tr>\n",
       "      <th>4</th>\n",
       "      <td>BMW</td>\n",
       "      <td>1 Series</td>\n",
       "      <td>2011</td>\n",
       "      <td>230.0</td>\n",
       "      <td>6.0</td>\n",
       "      <td>MANUAL</td>\n",
       "      <td>rear wheel drive</td>\n",
       "      <td>28</td>\n",
       "      <td>18</td>\n",
       "      <td>34500</td>\n",
       "    </tr>\n",
       "  </tbody>\n",
       "</table>\n",
       "</div>"
      ],
      "text/plain": [
       "  Make       Model  Year     HP  Cylinders Transmission Type  \\\n",
       "0  BMW  1 Series M  2011  335.0        6.0            MANUAL   \n",
       "1  BMW    1 Series  2011  300.0        6.0            MANUAL   \n",
       "2  BMW    1 Series  2011  300.0        6.0            MANUAL   \n",
       "3  BMW    1 Series  2011  230.0        6.0            MANUAL   \n",
       "4  BMW    1 Series  2011  230.0        6.0            MANUAL   \n",
       "\n",
       "      Driven_Wheels  highway MPG  city mpg   MSRP  \n",
       "0  rear wheel drive           26        19  46135  \n",
       "1  rear wheel drive           28        19  40650  \n",
       "2  rear wheel drive           28        20  36350  \n",
       "3  rear wheel drive           28        18  29450  \n",
       "4  rear wheel drive           28        18  34500  "
      ]
     },
     "execution_count": 20,
     "metadata": {},
     "output_type": "execute_result"
    }
   ],
   "source": [
    "df1.head()"
   ]
  },
  {
   "cell_type": "code",
   "execution_count": 21,
   "id": "80b78f6e",
   "metadata": {},
   "outputs": [
    {
     "data": {
      "text/plain": [
       "(11914, 10)"
      ]
     },
     "execution_count": 21,
     "metadata": {},
     "output_type": "execute_result"
    }
   ],
   "source": [
    "df1.shape"
   ]
  },
  {
   "cell_type": "markdown",
   "id": "e334e83d",
   "metadata": {},
   "source": [
    "## Check Duplicates"
   ]
  },
  {
   "cell_type": "code",
   "execution_count": 22,
   "id": "5321a352",
   "metadata": {},
   "outputs": [
    {
     "name": "stdout",
     "output_type": "stream",
     "text": [
      "Number of duplicate rows:  (715, 16)\n"
     ]
    }
   ],
   "source": [
    "duplicate_rows_df = df[df.duplicated()]\n",
    "print(\"Number of duplicate rows: \", duplicate_rows_df.shape)"
   ]
  },
  {
   "cell_type": "code",
   "execution_count": 23,
   "id": "18c67619",
   "metadata": {},
   "outputs": [],
   "source": [
    "df1 = df1.drop_duplicates(keep=False)"
   ]
  },
  {
   "cell_type": "code",
   "execution_count": 25,
   "id": "ac70ef49",
   "metadata": {},
   "outputs": [
    {
     "data": {
      "text/plain": [
       "(10140, 10)"
      ]
     },
     "execution_count": 25,
     "metadata": {},
     "output_type": "execute_result"
    }
   ],
   "source": [
    "df1.shape"
   ]
  },
  {
   "cell_type": "code",
   "execution_count": 26,
   "id": "0affa13b",
   "metadata": {},
   "outputs": [
    {
     "data": {
      "text/plain": [
       "Make                 10140\n",
       "Model                10140\n",
       "Year                 10140\n",
       "HP                   10071\n",
       "Cylinders            10110\n",
       "Transmission Type    10140\n",
       "Driven_Wheels        10140\n",
       "highway MPG          10140\n",
       "city mpg             10140\n",
       "MSRP                 10140\n",
       "dtype: int64"
      ]
     },
     "execution_count": 26,
     "metadata": {},
     "output_type": "execute_result"
    }
   ],
   "source": [
    "df1.count()"
   ]
  },
  {
   "cell_type": "code",
   "execution_count": 27,
   "id": "678c1c63",
   "metadata": {},
   "outputs": [
    {
     "data": {
      "text/plain": [
       "Make                  0\n",
       "Model                 0\n",
       "Year                  0\n",
       "HP                   69\n",
       "Cylinders            30\n",
       "Transmission Type     0\n",
       "Driven_Wheels         0\n",
       "highway MPG           0\n",
       "city mpg              0\n",
       "MSRP                  0\n",
       "dtype: int64"
      ]
     },
     "execution_count": 27,
     "metadata": {},
     "output_type": "execute_result"
    }
   ],
   "source": [
    "df1.isnull().sum()"
   ]
  },
  {
   "cell_type": "code",
   "execution_count": 28,
   "id": "1ef03e8f",
   "metadata": {},
   "outputs": [
    {
     "ename": "TypeError",
     "evalue": "DataFrame.dropna() takes 1 positional argument but 3 were given",
     "output_type": "error",
     "traceback": [
      "\u001b[31m---------------------------------------------------------------------------\u001b[39m",
      "\u001b[31mTypeError\u001b[39m                                 Traceback (most recent call last)",
      "\u001b[36mCell\u001b[39m\u001b[36m \u001b[39m\u001b[32mIn[28]\u001b[39m\u001b[32m, line 1\u001b[39m\n\u001b[32m----> \u001b[39m\u001b[32m1\u001b[39m df2 = \u001b[43mdf1\u001b[49m\u001b[43m.\u001b[49m\u001b[43mdropna\u001b[49m\u001b[43m(\u001b[49m\u001b[33;43m'\u001b[39;49m\u001b[33;43mHP\u001b[39;49m\u001b[33;43m'\u001b[39;49m\u001b[43m,\u001b[49m\u001b[33;43m'\u001b[39;49m\u001b[33;43mCylinders\u001b[39;49m\u001b[33;43m'\u001b[39;49m\u001b[43m)\u001b[49m\n",
      "\u001b[31mTypeError\u001b[39m: DataFrame.dropna() takes 1 positional argument but 3 were given"
     ]
    }
   ],
   "source": [
    "df2 = df1.dropna('HP','Cylinders')"
   ]
  },
  {
   "cell_type": "code",
   "execution_count": 29,
   "id": "0c7cd6b0",
   "metadata": {},
   "outputs": [],
   "source": [
    "df2 = df1.dropna(subset=['HP', 'Cylinders'])"
   ]
  },
  {
   "cell_type": "code",
   "execution_count": 30,
   "id": "6b1cf29a",
   "metadata": {},
   "outputs": [
    {
     "data": {
      "text/plain": [
       "Make                 10042\n",
       "Model                10042\n",
       "Year                 10042\n",
       "HP                   10042\n",
       "Cylinders            10042\n",
       "Transmission Type    10042\n",
       "Driven_Wheels        10042\n",
       "highway MPG          10042\n",
       "city mpg             10042\n",
       "MSRP                 10042\n",
       "dtype: int64"
      ]
     },
     "execution_count": 30,
     "metadata": {},
     "output_type": "execute_result"
    }
   ],
   "source": [
    "df2.count()"
   ]
  },
  {
   "cell_type": "markdown",
   "id": "aa6a7fb9",
   "metadata": {},
   "source": [
    "## BOXPLOT"
   ]
  },
  {
   "cell_type": "code",
   "execution_count": 41,
   "id": "251b3c8d",
   "metadata": {},
   "outputs": [
    {
     "data": {
      "text/plain": [
       "<Axes: xlabel='Make'>"
      ]
     },
     "execution_count": 41,
     "metadata": {},
     "output_type": "execute_result"
    },
    {
     "data": {
      "image/png": "[encoded data removed]",
      "text/plain": [
       "<Figure size 640x480 with 1 Axes>"
      ]
     },
     "metadata": {},
     "output_type": "display_data"
    }
   ],
   "source": [
    "sns.boxplot(x = df2['Make'])"
   ]
  },
  {
   "cell_type": "code",
   "execution_count": 42,
   "id": "770a6d3a",
   "metadata": {},
   "outputs": [
    {
     "data": {
      "text/plain": [
       "<Axes: xlabel='Model'>"
      ]
     },
     "execution_count": 42,
     "metadata": {},
     "output_type": "execute_result"
    },
    {
     "data": {
      "image/png": "[encoded data removed]",
      "text/plain": [
       "<Figure size 640x480 with 1 Axes>"
      ]
     },
     "metadata": {},
     "output_type": "display_data"
    }
   ],
   "source": [
    "sns.boxplot(x = df2['Model'])"
   ]
  },
  {
   "cell_type": "code",
   "execution_count": 43,
   "id": "16d2bebe",
   "metadata": {},
   "outputs": [
    {
     "data": {
      "text/plain": [
       "<Axes: xlabel='Transmission Type'>"
      ]
     },
     "execution_count": 43,
     "metadata": {},
     "output_type": "execute_result"
    },
    {
     "data": {
      "image/png": "[encoded data removed]",
      "text/plain": [
       "<Figure size 640x480 with 1 Axes>"
      ]
     },
     "metadata": {},
     "output_type": "display_data"
    }
   ],
   "source": [
    "sns.boxplot(x = df2['Transmission Type'])"
   ]
  },
  {
   "cell_type": "code",
   "execution_count": 44,
   "id": "ba54e57d",
   "metadata": {},
   "outputs": [
    {
     "data": {
      "text/plain": [
       "<Axes: xlabel='Driven_Wheels'>"
      ]
     },
     "execution_count": 44,
     "metadata": {},
     "output_type": "execute_result"
    },
    {
     "data": {
      "image/png": "[encoded data removed]",
      "text/plain": [
       "<Figure size 640x480 with 1 Axes>"
      ]
     },
     "metadata": {},
     "output_type": "display_data"
    }
   ],
   "source": [
    "sns.boxplot(x = df2['Driven_Wheels'])"
   ]
  },
  {
   "cell_type": "code",
   "execution_count": null,
   "id": "9d34ef31",
   "metadata": {},
   "outputs": [],
   "source": []
  },
  {
   "cell_type": "code",
   "execution_count": 33,
   "id": "1f6bc0b3",
   "metadata": {},
   "outputs": [
    {
     "data": {
      "text/plain": [
       "Make                  object\n",
       "Model                 object\n",
       "Year                   int64\n",
       "HP                   float64\n",
       "Cylinders            float64\n",
       "Transmission Type     object\n",
       "Driven_Wheels         object\n",
       "highway MPG            int64\n",
       "city mpg               int64\n",
       "MSRP                   int64\n",
       "dtype: object"
      ]
     },
     "execution_count": 33,
     "metadata": {},
     "output_type": "execute_result"
    }
   ],
   "source": [
    "df2.dtypes"
   ]
  },
  {
   "cell_type": "markdown",
   "id": "11c49bcb",
   "metadata": {},
   "source": [
    "## IQR"
   ]
  },
  {
   "cell_type": "code",
   "execution_count": 34,
   "id": "2fdbf9d2",
   "metadata": {},
   "outputs": [],
   "source": [
    "# Calculate Q1, Q3 and IQR\n",
    "Q1 = df2['Year'].quantile(0.25)\n",
    "Q3 = df2['Year'].quantile(0.75)\n",
    "IQR = Q3 - Q1\n",
    "\n",
    "# Define bounds\n",
    "lower_bound = Q1 - 1.5 * IQR\n",
    "upper_bound = Q3 + 1.5 * IQR\n",
    "\n",
    "# Remove outliers\n",
    "df3 = df2[(df2['Year'] >= lower_bound) & (df2['Year'] <= upper_bound)]"
   ]
  },
  {
   "cell_type": "code",
   "execution_count": 37,
   "id": "478c38c9",
   "metadata": {},
   "outputs": [
    {
     "name": "stdout",
     "output_type": "stream",
     "text": [
      "8.0\n"
     ]
    }
   ],
   "source": [
    "# Calculate Q1, Q3 and IQR\n",
    "Q1 = df2['highway MPG'].quantile(0.25)\n",
    "Q3 = df2['highway MPG'].quantile(0.75)\n",
    "IQR = Q3 - Q1\n",
    "print(IQR)\n",
    "# Define bounds\n",
    "lower_bound = Q1 - 1.5 * IQR\n",
    "upper_bound = Q3 + 1.5 * IQR\n",
    "\n",
    "# Remove outliers\n",
    "df3 = df2[(df2['highway MPG'] >= lower_bound) & (df2['highway MPG'] <= upper_bound)]"
   ]
  },
  {
   "cell_type": "code",
   "execution_count": 36,
   "id": "aff59db9",
   "metadata": {},
   "outputs": [],
   "source": [
    "# Calculate Q1, Q3 and IQR\n",
    "Q1 = df2['city mpg'].quantile(0.25)\n",
    "Q3 = df2['city mpg'].quantile(0.75)\n",
    "IQR = Q3 - Q1\n",
    "\n",
    "# Define bounds\n",
    "lower_bound = Q1 - 1.5 * IQR\n",
    "upper_bound = Q3 + 1.5 * IQR\n",
    "\n",
    "# Remove outliers\n",
    "df3 = df2[(df2['city mpg'] >= lower_bound) & (df2['city mpg'] <= upper_bound)]"
   ]
  },
  {
   "cell_type": "code",
   "execution_count": 40,
   "id": "76d10a11",
   "metadata": {},
   "outputs": [
    {
     "name": "stdout",
     "output_type": "stream",
     "text": [
      "21643.75\n"
     ]
    }
   ],
   "source": [
    "# Calculate Q1, Q3 and IQR\n",
    "Q1 = df2['MSRP'].quantile(0.25)\n",
    "Q3 = df2['MSRP'].quantile(0.75)\n",
    "IQR = Q3 - Q1\n",
    "print(IQR)\n",
    "\n",
    "# Define bounds\n",
    "lower_bound = Q1 - 1.5 * IQR\n",
    "upper_bound = Q3 + 1.5 * IQR\n",
    "\n",
    "# Remove outliers\n",
    "df3 = df2[(df2['MSRP'] >= lower_bound) & (df2['MSRP'] <= upper_bound)]"
   ]
  },
  {
   "cell_type": "code",
   "execution_count": 45,
   "id": "c1eb258f",
   "metadata": {},
   "outputs": [
    {
     "data": {
      "text/html": [
       "<div>\n",
       "<style scoped>\n",
       "    .dataframe tbody tr th:only-of-type {\n",
       "        vertical-align: middle;\n",
       "    }\n",
       "\n",
       "    .dataframe tbody tr th {\n",
       "        vertical-align: top;\n",
       "    }\n",
       "\n",
       "    .dataframe thead th {\n",
       "        text-align: right;\n",
       "    }\n",
       "</style>\n",
       "<table border=\"1\" class=\"dataframe\">\n",
       "  <thead>\n",
       "    <tr style=\"text-align: right;\">\n",
       "      <th></th>\n",
       "      <th>Make</th>\n",
       "      <th>Model</th>\n",
       "      <th>Year</th>\n",
       "      <th>HP</th>\n",
       "      <th>Cylinders</th>\n",
       "      <th>Transmission Type</th>\n",
       "      <th>Driven_Wheels</th>\n",
       "      <th>highway MPG</th>\n",
       "      <th>city mpg</th>\n",
       "      <th>MSRP</th>\n",
       "    </tr>\n",
       "  </thead>\n",
       "  <tbody>\n",
       "    <tr>\n",
       "      <th>0</th>\n",
       "      <td>BMW</td>\n",
       "      <td>1 Series M</td>\n",
       "      <td>2011</td>\n",
       "      <td>335.0</td>\n",
       "      <td>6.0</td>\n",
       "      <td>MANUAL</td>\n",
       "      <td>rear wheel drive</td>\n",
       "      <td>26</td>\n",
       "      <td>19</td>\n",
       "      <td>46135</td>\n",
       "    </tr>\n",
       "    <tr>\n",
       "      <th>1</th>\n",
       "      <td>BMW</td>\n",
       "      <td>1 Series</td>\n",
       "      <td>2011</td>\n",
       "      <td>300.0</td>\n",
       "      <td>6.0</td>\n",
       "      <td>MANUAL</td>\n",
       "      <td>rear wheel drive</td>\n",
       "      <td>28</td>\n",
       "      <td>19</td>\n",
       "      <td>40650</td>\n",
       "    </tr>\n",
       "    <tr>\n",
       "      <th>2</th>\n",
       "      <td>BMW</td>\n",
       "      <td>1 Series</td>\n",
       "      <td>2011</td>\n",
       "      <td>300.0</td>\n",
       "      <td>6.0</td>\n",
       "      <td>MANUAL</td>\n",
       "      <td>rear wheel drive</td>\n",
       "      <td>28</td>\n",
       "      <td>20</td>\n",
       "      <td>36350</td>\n",
       "    </tr>\n",
       "    <tr>\n",
       "      <th>3</th>\n",
       "      <td>BMW</td>\n",
       "      <td>1 Series</td>\n",
       "      <td>2011</td>\n",
       "      <td>230.0</td>\n",
       "      <td>6.0</td>\n",
       "      <td>MANUAL</td>\n",
       "      <td>rear wheel drive</td>\n",
       "      <td>28</td>\n",
       "      <td>18</td>\n",
       "      <td>29450</td>\n",
       "    </tr>\n",
       "    <tr>\n",
       "      <th>4</th>\n",
       "      <td>BMW</td>\n",
       "      <td>1 Series</td>\n",
       "      <td>2011</td>\n",
       "      <td>230.0</td>\n",
       "      <td>6.0</td>\n",
       "      <td>MANUAL</td>\n",
       "      <td>rear wheel drive</td>\n",
       "      <td>28</td>\n",
       "      <td>18</td>\n",
       "      <td>34500</td>\n",
       "    </tr>\n",
       "  </tbody>\n",
       "</table>\n",
       "</div>"
      ],
      "text/plain": [
       "  Make       Model  Year     HP  Cylinders Transmission Type  \\\n",
       "0  BMW  1 Series M  2011  335.0        6.0            MANUAL   \n",
       "1  BMW    1 Series  2011  300.0        6.0            MANUAL   \n",
       "2  BMW    1 Series  2011  300.0        6.0            MANUAL   \n",
       "3  BMW    1 Series  2011  230.0        6.0            MANUAL   \n",
       "4  BMW    1 Series  2011  230.0        6.0            MANUAL   \n",
       "\n",
       "      Driven_Wheels  highway MPG  city mpg   MSRP  \n",
       "0  rear wheel drive           26        19  46135  \n",
       "1  rear wheel drive           28        19  40650  \n",
       "2  rear wheel drive           28        20  36350  \n",
       "3  rear wheel drive           28        18  29450  \n",
       "4  rear wheel drive           28        18  34500  "
      ]
     },
     "execution_count": 45,
     "metadata": {},
     "output_type": "execute_result"
    }
   ],
   "source": [
    "df3.head()"
   ]
  },
  {
   "cell_type": "code",
   "execution_count": 46,
   "id": "7a45db17",
   "metadata": {},
   "outputs": [
    {
     "data": {
      "text/plain": [
       "Make                 9148\n",
       "Model                9148\n",
       "Year                 9148\n",
       "HP                   9148\n",
       "Cylinders            9148\n",
       "Transmission Type    9148\n",
       "Driven_Wheels        9148\n",
       "highway MPG          9148\n",
       "city mpg             9148\n",
       "MSRP                 9148\n",
       "dtype: int64"
      ]
     },
     "execution_count": 46,
     "metadata": {},
     "output_type": "execute_result"
    }
   ],
   "source": [
    "df3.count()"
   ]
  },
  {
   "cell_type": "code",
   "execution_count": 62,
   "id": "f5204896",
   "metadata": {},
   "outputs": [
    {
     "ename": "AttributeError",
     "evalue": "module 'matplotlib.pyplot' has no attribute 'ylable'",
     "output_type": "error",
     "traceback": [
      "\u001b[31m---------------------------------------------------------------------------\u001b[39m",
      "\u001b[31mAttributeError\u001b[39m                            Traceback (most recent call last)",
      "\u001b[36mCell\u001b[39m\u001b[36m \u001b[39m\u001b[32mIn[62]\u001b[39m\u001b[32m, line 3\u001b[39m\n\u001b[32m      1\u001b[39m df3.Make.value_counts().nlargest(\u001b[32m40\u001b[39m).plot(kind = \u001b[33m'\u001b[39m\u001b[33mbar\u001b[39m\u001b[33m'\u001b[39m, figsize=(\u001b[32m10\u001b[39m,\u001b[32m5\u001b[39m))\n\u001b[32m      2\u001b[39m plt.title(\u001b[33m\"\u001b[39m\u001b[33mNumbers of cars by make\u001b[39m\u001b[33m\"\u001b[39m)\n\u001b[32m----> \u001b[39m\u001b[32m3\u001b[39m \u001b[43mplt\u001b[49m\u001b[43m.\u001b[49m\u001b[43mylable\u001b[49m(\u001b[33m\"\u001b[39m\u001b[33mNumber of cars\u001b[39m\u001b[33m\"\u001b[39m)\n\u001b[32m      4\u001b[39m plt.xlable(\u001b[33m\"\u001b[39m\u001b[33mMake\u001b[39m\u001b[33m\"\u001b[39m)\n",
      "\u001b[31mAttributeError\u001b[39m: module 'matplotlib.pyplot' has no attribute 'ylable'"
     ]
    },
    {
     "data": {
      "image/png": "[encoded data removed]",
      "text/plain": [
       "<Figure size 1000x500 with 1 Axes>"
      ]
     },
     "metadata": {},
     "output_type": "display_data"
    }
   ],
   "source": [
    "df3.Make.value_counts().nlargest(40).plot(kind = 'bar', figsize=(10,5))\n",
    "plt.title(\"Numbers of cars by make\")\n",
    "plt.ylable(\"Number of cars\")\n",
    "plt.xlable(\"Make\")"
   ]
  },
  {
   "cell_type": "code",
   "execution_count": 60,
   "id": "b1f6d1e9",
   "metadata": {},
   "outputs": [
    {
     "data": {
      "text/plain": [
       "<Figure size 1000x500 with 0 Axes>"
      ]
     },
     "metadata": {},
     "output_type": "display_data"
    }
   ],
   "source": [
    "plt.figure(figsize=(10,5))\n",
    "c1 = df3.select_dtypes(include='number')\n",
    "c = c1.corr()"
   ]
  },
  {
   "cell_type": "code",
   "execution_count": 65,
   "id": "a40c6fe9",
   "metadata": {},
   "outputs": [
    {
     "data": {
      "text/plain": [
       "<Axes: >"
      ]
     },
     "execution_count": 65,
     "metadata": {},
     "output_type": "execute_result"
    },
    {
     "data": {
      "image/png": "[encoded data removed]",
      "text/plain": [
       "<Figure size 640x480 with 2 Axes>"
      ]
     },
     "metadata": {},
     "output_type": "display_data"
    }
   ],
   "source": [
    "sns.heatmap(c, cmap=\"BrBG\", annot = True)"
   ]
  },
  {
   "cell_type": "markdown",
   "id": "e4db2376",
   "metadata": {},
   "source": [
    "## Data Visualization"
   ]
  },
  {
   "cell_type": "code",
   "execution_count": 71,
   "id": "742d49da",
   "metadata": {},
   "outputs": [
    {
     "data": {
      "image/png": "[encoded data removed]",
      "text/plain": [
       "<Figure size 1000x600 with 1 Axes>"
      ]
     },
     "metadata": {},
     "output_type": "display_data"
    }
   ],
   "source": [
    "fig, ax = plt.subplots(figsize = (10, 6))\n",
    "ax.scatter(df3['HP'], df3['MSRP'])\n",
    "ax.set_xlabel('HP')\n",
    "ax.set_ylabel('Price')\n",
    "plt.show()"
   ]
  },
  {
   "cell_type": "code",
   "execution_count": 72,
   "id": "9b4fb75b",
   "metadata": {},
   "outputs": [
    {
     "name": "stdout",
     "output_type": "stream",
     "text": [
      "Collecting scikit-learn\n",
      "  Downloading scikit_learn-1.7.2-cp311-cp311-win_amd64.whl.metadata (11 kB)\n",
      "Requirement already satisfied: numpy>=1.22.0 in c:\\users\\user\\appdata\\local\\packages\\pythonsoftwarefoundation.python.3.11_qbz5n2kfra8p0\\localcache\\local-packages\\python311\\site-packages (from scikit-learn) (2.3.2)\n",
      "Collecting scipy>=1.8.0 (from scikit-learn)\n",
      "  Downloading scipy-1.16.1-cp311-cp311-win_amd64.whl.metadata (60 kB)\n",
      "     ---------------------------------------- 0.0/60.8 kB ? eta -:--:--\n",
      "     ------ --------------------------------- 10.2/60.8 kB ? eta -:--:--\n",
      "     ------------------------------- ------ 51.2/60.8 kB 518.5 kB/s eta 0:00:01\n",
      "     -------------------------------------- 60.8/60.8 kB 537.9 kB/s eta 0:00:00\n",
      "Collecting joblib>=1.2.0 (from scikit-learn)\n",
      "  Downloading joblib-1.5.2-py3-none-any.whl.metadata (5.6 kB)\n",
      "Collecting threadpoolctl>=3.1.0 (from scikit-learn)\n",
      "  Downloading threadpoolctl-3.6.0-py3-none-any.whl.metadata (13 kB)\n",
      "Downloading scikit_learn-1.7.2-cp311-cp311-win_amd64.whl (8.9 MB)\n",
      "   ---------------------------------------- 0.0/8.9 MB ? eta -:--:--\n",
      "   ---------------------------------------- 0.1/8.9 MB 2.6 MB/s eta 0:00:04\n",
      "   - -------------------------------------- 0.2/8.9 MB 3.8 MB/s eta 0:00:03\n",
      "   -- ------------------------------------- 0.5/8.9 MB 5.2 MB/s eta 0:00:02\n",
      "   ---- ----------------------------------- 1.0/8.9 MB 7.2 MB/s eta 0:00:02\n",
      "   ------ --------------------------------- 1.4/8.9 MB 7.1 MB/s eta 0:00:02\n",
      "   -------- ------------------------------- 2.0/8.9 MB 7.8 MB/s eta 0:00:01\n",
      "   ----------- ---------------------------- 2.5/8.9 MB 8.3 MB/s eta 0:00:01\n",
      "   ------------ --------------------------- 2.9/8.9 MB 8.7 MB/s eta 0:00:01\n",
      "   -------------- ------------------------- 3.3/8.9 MB 8.8 MB/s eta 0:00:01\n",
      "   ---------------- ----------------------- 3.7/8.9 MB 9.4 MB/s eta 0:00:01\n",
      "   ------------------ --------------------- 4.0/8.9 MB 8.9 MB/s eta 0:00:01\n",
      "   ------------------- -------------------- 4.2/8.9 MB 9.0 MB/s eta 0:00:01\n",
      "   ------------------- -------------------- 4.3/8.9 MB 8.4 MB/s eta 0:00:01\n",
      "   --------------------- ------------------ 4.8/8.9 MB 8.3 MB/s eta 0:00:01\n",
      "   ---------------------- ----------------- 5.1/8.9 MB 8.3 MB/s eta 0:00:01\n",
      "   ---------------------- ----------------- 5.1/8.9 MB 7.8 MB/s eta 0:00:01\n",
      "   ------------------------ --------------- 5.5/8.9 MB 8.0 MB/s eta 0:00:01\n",
      "   -------------------------- ------------- 5.8/8.9 MB 7.9 MB/s eta 0:00:01\n",
      "   ---------------------------- ----------- 6.4/8.9 MB 8.1 MB/s eta 0:00:01\n",
      "   ------------------------------ --------- 6.7/8.9 MB 8.1 MB/s eta 0:00:01\n",
      "   -------------------------------- ------- 7.2/8.9 MB 8.4 MB/s eta 0:00:01\n",
      "   ---------------------------------- ----- 7.6/8.9 MB 8.6 MB/s eta 0:00:01\n",
      "   ------------------------------------ --- 8.0/8.9 MB 8.6 MB/s eta 0:00:01\n",
      "   -------------------------------------- - 8.5/8.9 MB 8.6 MB/s eta 0:00:01\n",
      "   ---------------------------------------  8.9/8.9 MB 8.7 MB/s eta 0:00:01\n",
      "   ---------------------------------------- 8.9/8.9 MB 8.5 MB/s eta 0:00:00\n",
      "Downloading joblib-1.5.2-py3-none-any.whl (308 kB)\n",
      "   ---------------------------------------- 0.0/308.4 kB ? eta -:--:--\n",
      "   ---------------------------------------  307.2/308.4 kB 9.6 MB/s eta 0:00:01\n",
      "   ---------------------------------------- 308.4/308.4 kB 9.6 MB/s eta 0:00:00\n",
      "Downloading scipy-1.16.1-cp311-cp311-win_amd64.whl (38.6 MB)\n",
      "   ---------------------------------------- 0.0/38.6 MB ? eta -:--:--\n",
      "    --------------------------------------- 0.5/38.6 MB 16.5 MB/s eta 0:00:03\n",
      "    --------------------------------------- 0.8/38.6 MB 12.2 MB/s eta 0:00:04\n",
      "    --------------------------------------- 0.8/38.6 MB 12.2 MB/s eta 0:00:04\n",
      "   - -------------------------------------- 1.5/38.6 MB 9.7 MB/s eta 0:00:04\n",
      "   - -------------------------------------- 1.8/38.6 MB 8.8 MB/s eta 0:00:05\n",
      "   -- ------------------------------------- 2.1/38.6 MB 9.1 MB/s eta 0:00:05\n",
      "   -- ------------------------------------- 2.4/38.6 MB 9.0 MB/s eta 0:00:05\n",
      "   -- ------------------------------------- 2.7/38.6 MB 8.6 MB/s eta 0:00:05\n",
      "   --- ------------------------------------ 3.0/38.6 MB 8.4 MB/s eta 0:00:05\n",
      "   --- ------------------------------------ 3.3/38.6 MB 8.1 MB/s eta 0:00:05\n",
      "   --- ------------------------------------ 3.6/38.6 MB 7.9 MB/s eta 0:00:05\n",
      "   --- ------------------------------------ 3.9/38.6 MB 8.2 MB/s eta 0:00:05\n",
      "   ---- ----------------------------------- 4.1/38.6 MB 8.3 MB/s eta 0:00:05\n",
      "   ---- ----------------------------------- 4.6/38.6 MB 8.0 MB/s eta 0:00:05\n",
      "   ----- ---------------------------------- 4.9/38.6 MB 8.1 MB/s eta 0:00:05\n",
      "   ----- ---------------------------------- 5.2/38.6 MB 8.2 MB/s eta 0:00:05\n",
      "   ----- ---------------------------------- 5.6/38.6 MB 8.1 MB/s eta 0:00:05\n",
      "   ------ --------------------------------- 5.9/38.6 MB 8.1 MB/s eta 0:00:05\n",
      "   ------ --------------------------------- 6.4/38.6 MB 8.2 MB/s eta 0:00:04\n",
      "   ------ --------------------------------- 6.7/38.6 MB 8.3 MB/s eta 0:00:04\n",
      "   ------- -------------------------------- 7.1/38.6 MB 8.2 MB/s eta 0:00:04\n",
      "   ------- -------------------------------- 7.3/38.6 MB 8.2 MB/s eta 0:00:04\n",
      "   ------- -------------------------------- 7.3/38.6 MB 8.2 MB/s eta 0:00:04\n",
      "   ------- -------------------------------- 7.7/38.6 MB 8.0 MB/s eta 0:00:04\n",
      "   -------- ------------------------------- 8.0/38.6 MB 7.9 MB/s eta 0:00:04\n",
      "   -------- ------------------------------- 8.1/38.6 MB 7.7 MB/s eta 0:00:04\n",
      "   -------- ------------------------------- 8.2/38.6 MB 7.6 MB/s eta 0:00:04\n",
      "   -------- ------------------------------- 8.4/38.6 MB 7.5 MB/s eta 0:00:05\n",
      "   -------- ------------------------------- 8.6/38.6 MB 7.2 MB/s eta 0:00:05\n",
      "   --------- ------------------------------ 8.7/38.6 MB 7.1 MB/s eta 0:00:05\n",
      "   --------- ------------------------------ 8.8/38.6 MB 7.0 MB/s eta 0:00:05\n",
      "   --------- ------------------------------ 8.9/38.6 MB 6.8 MB/s eta 0:00:05\n",
      "   --------- ------------------------------ 8.9/38.6 MB 6.8 MB/s eta 0:00:05\n",
      "   --------- ------------------------------ 9.1/38.6 MB 6.6 MB/s eta 0:00:05\n",
      "   --------- ------------------------------ 9.1/38.6 MB 6.5 MB/s eta 0:00:05\n",
      "   --------- ------------------------------ 9.2/38.6 MB 6.2 MB/s eta 0:00:05\n",
      "   --------- ------------------------------ 9.2/38.6 MB 6.1 MB/s eta 0:00:05\n",
      "   --------- ------------------------------ 9.3/38.6 MB 6.0 MB/s eta 0:00:05\n",
      "   --------- ------------------------------ 9.4/38.6 MB 5.9 MB/s eta 0:00:05\n",
      "   --------- ------------------------------ 9.5/38.6 MB 5.8 MB/s eta 0:00:06\n",
      "   --------- ------------------------------ 9.6/38.6 MB 5.8 MB/s eta 0:00:06\n",
      "   ---------- ----------------------------- 9.7/38.6 MB 5.7 MB/s eta 0:00:06\n",
      "   ---------- ----------------------------- 9.8/38.6 MB 5.6 MB/s eta 0:00:06\n",
      "   ---------- ----------------------------- 9.9/38.6 MB 5.5 MB/s eta 0:00:06\n",
      "   ---------- ----------------------------- 10.0/38.6 MB 5.5 MB/s eta 0:00:06\n",
      "   ---------- ----------------------------- 10.1/38.6 MB 5.4 MB/s eta 0:00:06\n",
      "   ---------- ----------------------------- 10.2/38.6 MB 5.4 MB/s eta 0:00:06\n",
      "   ---------- ----------------------------- 10.3/38.6 MB 5.3 MB/s eta 0:00:06\n",
      "   ---------- ----------------------------- 10.4/38.6 MB 5.2 MB/s eta 0:00:06\n",
      "   ---------- ----------------------------- 10.5/38.6 MB 5.1 MB/s eta 0:00:06\n",
      "   ----------- ---------------------------- 10.7/38.6 MB 5.0 MB/s eta 0:00:06\n",
      "   ----------- ---------------------------- 10.7/38.6 MB 4.9 MB/s eta 0:00:06\n",
      "   ----------- ---------------------------- 10.8/38.6 MB 4.9 MB/s eta 0:00:06\n",
      "   ----------- ---------------------------- 11.0/38.6 MB 4.8 MB/s eta 0:00:06\n",
      "   ----------- ---------------------------- 11.1/38.6 MB 4.9 MB/s eta 0:00:06\n",
      "   ----------- ---------------------------- 11.2/38.6 MB 4.8 MB/s eta 0:00:06\n",
      "   ----------- ---------------------------- 11.3/38.6 MB 4.7 MB/s eta 0:00:06\n",
      "   ----------- ---------------------------- 11.4/38.6 MB 4.6 MB/s eta 0:00:06\n",
      "   ----------- ---------------------------- 11.5/38.6 MB 4.5 MB/s eta 0:00:07\n",
      "   ------------ --------------------------- 11.7/38.6 MB 4.5 MB/s eta 0:00:07\n",
      "   ------------ --------------------------- 11.7/38.6 MB 4.4 MB/s eta 0:00:07\n",
      "   ------------ --------------------------- 11.8/38.6 MB 4.4 MB/s eta 0:00:07\n",
      "   ------------ --------------------------- 11.9/38.6 MB 4.3 MB/s eta 0:00:07\n",
      "   ------------ --------------------------- 12.1/38.6 MB 4.3 MB/s eta 0:00:07\n",
      "   ------------ --------------------------- 12.2/38.6 MB 4.2 MB/s eta 0:00:07\n",
      "   ------------ --------------------------- 12.3/38.6 MB 4.2 MB/s eta 0:00:07\n",
      "   ------------ --------------------------- 12.4/38.6 MB 4.1 MB/s eta 0:00:07\n",
      "   ------------ --------------------------- 12.5/38.6 MB 4.1 MB/s eta 0:00:07\n",
      "   ------------- -------------------------- 12.7/38.6 MB 4.1 MB/s eta 0:00:07\n",
      "   ------------- -------------------------- 12.8/38.6 MB 4.0 MB/s eta 0:00:07\n",
      "   ------------- -------------------------- 13.0/38.6 MB 4.0 MB/s eta 0:00:07\n",
      "   ------------- -------------------------- 13.0/38.6 MB 4.0 MB/s eta 0:00:07\n",
      "   ------------- -------------------------- 13.1/38.6 MB 3.9 MB/s eta 0:00:07\n",
      "   ------------- -------------------------- 13.2/38.6 MB 3.9 MB/s eta 0:00:07\n",
      "   ------------- -------------------------- 13.3/38.6 MB 3.8 MB/s eta 0:00:07\n",
      "   ------------- -------------------------- 13.4/38.6 MB 3.8 MB/s eta 0:00:07\n",
      "   -------------- ------------------------- 13.5/38.6 MB 3.7 MB/s eta 0:00:07\n",
      "   -------------- ------------------------- 13.6/38.6 MB 3.7 MB/s eta 0:00:07\n",
      "   -------------- ------------------------- 13.7/38.6 MB 3.7 MB/s eta 0:00:07\n",
      "   -------------- ------------------------- 13.8/38.6 MB 3.6 MB/s eta 0:00:07\n",
      "   -------------- ------------------------- 14.0/38.6 MB 3.6 MB/s eta 0:00:07\n",
      "   -------------- ------------------------- 14.1/38.6 MB 3.6 MB/s eta 0:00:07\n",
      "   -------------- ------------------------- 14.2/38.6 MB 3.5 MB/s eta 0:00:07\n",
      "   -------------- ------------------------- 14.3/38.6 MB 3.5 MB/s eta 0:00:07\n",
      "   -------------- ------------------------- 14.3/38.6 MB 3.4 MB/s eta 0:00:08\n",
      "   -------------- ------------------------- 14.4/38.6 MB 3.4 MB/s eta 0:00:08\n",
      "   --------------- ------------------------ 14.5/38.6 MB 3.4 MB/s eta 0:00:08\n",
      "   --------------- ------------------------ 14.7/38.6 MB 3.3 MB/s eta 0:00:08\n",
      "   --------------- ------------------------ 14.8/38.6 MB 3.3 MB/s eta 0:00:08\n",
      "   --------------- ------------------------ 14.9/38.6 MB 3.3 MB/s eta 0:00:08\n",
      "   --------------- ------------------------ 15.0/38.6 MB 3.3 MB/s eta 0:00:08\n",
      "   --------------- ------------------------ 15.2/38.6 MB 3.2 MB/s eta 0:00:08\n",
      "   --------------- ------------------------ 15.3/38.6 MB 3.2 MB/s eta 0:00:08\n",
      "   --------------- ------------------------ 15.4/38.6 MB 3.2 MB/s eta 0:00:08\n",
      "   ---------------- ----------------------- 15.5/38.6 MB 3.2 MB/s eta 0:00:08\n",
      "   ---------------- ----------------------- 15.7/38.6 MB 3.1 MB/s eta 0:00:08\n",
      "   ---------------- ----------------------- 15.8/38.6 MB 3.1 MB/s eta 0:00:08\n",
      "   ---------------- ----------------------- 15.9/38.6 MB 3.1 MB/s eta 0:00:08\n",
      "   ---------------- ----------------------- 16.0/38.6 MB 3.0 MB/s eta 0:00:08\n",
      "   ---------------- ----------------------- 16.2/38.6 MB 3.0 MB/s eta 0:00:08\n",
      "   ---------------- ----------------------- 16.3/38.6 MB 3.0 MB/s eta 0:00:08\n",
      "   ---------------- ----------------------- 16.4/38.6 MB 3.0 MB/s eta 0:00:08\n",
      "   ----------------- ---------------------- 16.5/38.6 MB 3.0 MB/s eta 0:00:08\n",
      "   ----------------- ---------------------- 16.6/38.6 MB 2.9 MB/s eta 0:00:08\n",
      "   ----------------- ---------------------- 16.7/38.6 MB 2.9 MB/s eta 0:00:08\n",
      "   ----------------- ---------------------- 16.9/38.6 MB 2.9 MB/s eta 0:00:08\n",
      "   ----------------- ---------------------- 17.0/38.6 MB 2.9 MB/s eta 0:00:08\n",
      "   ----------------- ---------------------- 17.0/38.6 MB 2.8 MB/s eta 0:00:08\n",
      "   ----------------- ---------------------- 17.1/38.6 MB 2.8 MB/s eta 0:00:08\n",
      "   ----------------- ---------------------- 17.2/38.6 MB 2.8 MB/s eta 0:00:08\n",
      "   ----------------- ---------------------- 17.3/38.6 MB 2.8 MB/s eta 0:00:08\n",
      "   ------------------ --------------------- 17.5/38.6 MB 2.8 MB/s eta 0:00:08\n",
      "   ------------------ --------------------- 17.6/38.6 MB 2.8 MB/s eta 0:00:08\n",
      "   ------------------ --------------------- 17.8/38.6 MB 2.8 MB/s eta 0:00:08\n",
      "   ------------------ --------------------- 17.9/38.6 MB 2.7 MB/s eta 0:00:08\n",
      "   ------------------ --------------------- 18.1/38.6 MB 2.7 MB/s eta 0:00:08\n",
      "   ------------------ --------------------- 18.2/38.6 MB 2.7 MB/s eta 0:00:08\n",
      "   ------------------- -------------------- 18.4/38.6 MB 2.7 MB/s eta 0:00:08\n",
      "   ------------------- -------------------- 18.5/38.6 MB 2.7 MB/s eta 0:00:08\n",
      "   ------------------- -------------------- 18.6/38.6 MB 2.7 MB/s eta 0:00:08\n",
      "   ------------------- -------------------- 18.8/38.6 MB 2.7 MB/s eta 0:00:08\n",
      "   ------------------- -------------------- 18.9/38.6 MB 2.7 MB/s eta 0:00:08\n",
      "   ------------------- -------------------- 19.0/38.6 MB 2.7 MB/s eta 0:00:08\n",
      "   ------------------- -------------------- 19.1/38.6 MB 2.7 MB/s eta 0:00:08\n",
      "   ------------------- -------------------- 19.2/38.6 MB 2.7 MB/s eta 0:00:08\n",
      "   ------------------- -------------------- 19.3/38.6 MB 2.7 MB/s eta 0:00:08\n",
      "   -------------------- ------------------- 19.3/38.6 MB 2.8 MB/s eta 0:00:07\n",
      "   -------------------- ------------------- 19.5/38.6 MB 2.8 MB/s eta 0:00:07\n",
      "   -------------------- ------------------- 19.6/38.6 MB 2.8 MB/s eta 0:00:07\n",
      "   -------------------- ------------------- 19.6/38.6 MB 2.7 MB/s eta 0:00:07\n",
      "   -------------------- ------------------- 19.7/38.6 MB 2.7 MB/s eta 0:00:07\n",
      "   -------------------- ------------------- 19.8/38.6 MB 2.7 MB/s eta 0:00:07\n",
      "   -------------------- ------------------- 19.9/38.6 MB 2.7 MB/s eta 0:00:07\n",
      "   -------------------- ------------------- 19.9/38.6 MB 2.7 MB/s eta 0:00:07\n",
      "   -------------------- ------------------- 19.9/38.6 MB 2.7 MB/s eta 0:00:07\n",
      "   -------------------- ------------------- 20.0/38.6 MB 2.7 MB/s eta 0:00:07\n",
      "   -------------------- ------------------- 20.0/38.6 MB 2.7 MB/s eta 0:00:07\n",
      "   -------------------- ------------------- 20.2/38.6 MB 2.7 MB/s eta 0:00:07\n",
      "   -------------------- ------------------- 20.2/38.6 MB 2.7 MB/s eta 0:00:07\n",
      "   --------------------- ------------------ 20.3/38.6 MB 2.7 MB/s eta 0:00:07\n",
      "   --------------------- ------------------ 20.4/38.6 MB 2.7 MB/s eta 0:00:07\n",
      "   --------------------- ------------------ 20.5/38.6 MB 2.7 MB/s eta 0:00:07\n",
      "   --------------------- ------------------ 20.6/38.6 MB 2.7 MB/s eta 0:00:07\n",
      "   --------------------- ------------------ 20.7/38.6 MB 2.7 MB/s eta 0:00:07\n",
      "   --------------------- ------------------ 20.8/38.6 MB 2.7 MB/s eta 0:00:07\n",
      "   --------------------- ------------------ 20.9/38.6 MB 2.7 MB/s eta 0:00:07\n",
      "   --------------------- ------------------ 21.0/38.6 MB 2.7 MB/s eta 0:00:07\n",
      "   --------------------- ------------------ 21.1/38.6 MB 2.7 MB/s eta 0:00:07\n",
      "   --------------------- ------------------ 21.1/38.6 MB 2.6 MB/s eta 0:00:07\n",
      "   --------------------- ------------------ 21.2/38.6 MB 2.6 MB/s eta 0:00:07\n",
      "   ---------------------- ----------------- 21.3/38.6 MB 2.6 MB/s eta 0:00:07\n",
      "   ---------------------- ----------------- 21.5/38.6 MB 2.6 MB/s eta 0:00:07\n",
      "   ---------------------- ----------------- 21.5/38.6 MB 2.6 MB/s eta 0:00:07\n",
      "   ---------------------- ----------------- 21.6/38.6 MB 2.6 MB/s eta 0:00:07\n",
      "   ---------------------- ----------------- 21.7/38.6 MB 2.6 MB/s eta 0:00:07\n",
      "   ---------------------- ----------------- 21.8/38.6 MB 2.6 MB/s eta 0:00:07\n",
      "   ---------------------- ----------------- 21.9/38.6 MB 2.6 MB/s eta 0:00:07\n",
      "   ---------------------- ----------------- 21.9/38.6 MB 2.6 MB/s eta 0:00:07\n",
      "   ---------------------- ----------------- 22.0/38.6 MB 2.6 MB/s eta 0:00:07\n",
      "   ---------------------- ----------------- 22.1/38.6 MB 2.6 MB/s eta 0:00:07\n",
      "   ---------------------- ----------------- 22.1/38.6 MB 2.6 MB/s eta 0:00:07\n",
      "   ---------------------- ----------------- 22.2/38.6 MB 2.5 MB/s eta 0:00:07\n",
      "   ----------------------- ---------------- 22.3/38.6 MB 2.5 MB/s eta 0:00:07\n",
      "   ----------------------- ---------------- 22.4/38.6 MB 2.5 MB/s eta 0:00:07\n",
      "   ----------------------- ---------------- 22.5/38.6 MB 2.5 MB/s eta 0:00:07\n",
      "   ----------------------- ---------------- 22.6/38.6 MB 2.5 MB/s eta 0:00:07\n",
      "   ----------------------- ---------------- 22.7/38.6 MB 2.5 MB/s eta 0:00:07\n",
      "   ----------------------- ---------------- 22.8/38.6 MB 2.5 MB/s eta 0:00:07\n",
      "   ----------------------- ---------------- 22.9/38.6 MB 2.5 MB/s eta 0:00:07\n",
      "   ----------------------- ---------------- 23.0/38.6 MB 2.5 MB/s eta 0:00:07\n",
      "   ----------------------- ---------------- 23.1/38.6 MB 2.5 MB/s eta 0:00:07\n",
      "   ------------------------ --------------- 23.2/38.6 MB 2.5 MB/s eta 0:00:07\n",
      "   ------------------------ --------------- 23.3/38.6 MB 2.5 MB/s eta 0:00:07\n",
      "   ------------------------ --------------- 23.4/38.6 MB 2.5 MB/s eta 0:00:07\n",
      "   ------------------------ --------------- 23.5/38.6 MB 2.5 MB/s eta 0:00:07\n",
      "   ------------------------ --------------- 23.6/38.6 MB 2.5 MB/s eta 0:00:07\n",
      "   ------------------------ --------------- 23.7/38.6 MB 2.5 MB/s eta 0:00:06\n",
      "   ------------------------ --------------- 23.8/38.6 MB 2.5 MB/s eta 0:00:06\n",
      "   ------------------------ --------------- 23.9/38.6 MB 2.5 MB/s eta 0:00:06\n",
      "   ------------------------ --------------- 24.0/38.6 MB 2.5 MB/s eta 0:00:06\n",
      "   ------------------------ --------------- 24.0/38.6 MB 2.5 MB/s eta 0:00:06\n",
      "   ------------------------ --------------- 24.1/38.6 MB 2.5 MB/s eta 0:00:06\n",
      "   ------------------------- -------------- 24.2/38.6 MB 2.5 MB/s eta 0:00:06\n",
      "   ------------------------- -------------- 24.3/38.6 MB 2.5 MB/s eta 0:00:06\n",
      "   ------------------------- -------------- 24.4/38.6 MB 2.5 MB/s eta 0:00:06\n",
      "   ------------------------- -------------- 24.5/38.6 MB 2.5 MB/s eta 0:00:06\n",
      "   ------------------------- -------------- 24.6/38.6 MB 2.5 MB/s eta 0:00:06\n",
      "   ------------------------- -------------- 24.8/38.6 MB 2.5 MB/s eta 0:00:06\n",
      "   ------------------------- -------------- 24.9/38.6 MB 2.5 MB/s eta 0:00:06\n",
      "   ------------------------- -------------- 25.0/38.6 MB 2.5 MB/s eta 0:00:06\n",
      "   -------------------------- ------------- 25.1/38.6 MB 2.5 MB/s eta 0:00:06\n",
      "   -------------------------- ------------- 25.3/38.6 MB 2.5 MB/s eta 0:00:06\n",
      "   -------------------------- ------------- 25.4/38.6 MB 2.5 MB/s eta 0:00:06\n",
      "   -------------------------- ------------- 25.5/38.6 MB 2.5 MB/s eta 0:00:06\n",
      "   -------------------------- ------------- 25.7/38.6 MB 2.5 MB/s eta 0:00:06\n",
      "   -------------------------- ------------- 25.8/38.6 MB 2.5 MB/s eta 0:00:06\n",
      "   -------------------------- ------------- 25.9/38.6 MB 2.5 MB/s eta 0:00:06\n",
      "   -------------------------- ------------- 26.0/38.6 MB 2.5 MB/s eta 0:00:06\n",
      "   --------------------------- ------------ 26.2/38.6 MB 2.5 MB/s eta 0:00:05\n",
      "   --------------------------- ------------ 26.3/38.6 MB 2.5 MB/s eta 0:00:05\n",
      "   --------------------------- ------------ 26.4/38.6 MB 2.5 MB/s eta 0:00:05\n",
      "   --------------------------- ------------ 26.6/38.6 MB 2.5 MB/s eta 0:00:05\n",
      "   --------------------------- ------------ 26.7/38.6 MB 2.5 MB/s eta 0:00:05\n",
      "   --------------------------- ------------ 26.8/38.6 MB 2.5 MB/s eta 0:00:05\n",
      "   --------------------------- ------------ 26.9/38.6 MB 2.5 MB/s eta 0:00:05\n",
      "   --------------------------- ------------ 27.0/38.6 MB 2.5 MB/s eta 0:00:05\n",
      "   ---------------------------- ----------- 27.1/38.6 MB 2.5 MB/s eta 0:00:05\n",
      "   ---------------------------- ----------- 27.3/38.6 MB 2.5 MB/s eta 0:00:05\n",
      "   ---------------------------- ----------- 27.4/38.6 MB 2.5 MB/s eta 0:00:05\n",
      "   ---------------------------- ----------- 27.5/38.6 MB 2.5 MB/s eta 0:00:05\n",
      "   ---------------------------- ----------- 27.6/38.6 MB 2.5 MB/s eta 0:00:05\n",
      "   ---------------------------- ----------- 27.8/38.6 MB 2.5 MB/s eta 0:00:05\n",
      "   ---------------------------- ----------- 27.9/38.6 MB 2.5 MB/s eta 0:00:05\n",
      "   ----------------------------- ---------- 28.1/38.6 MB 2.5 MB/s eta 0:00:05\n",
      "   ----------------------------- ---------- 28.2/38.6 MB 2.5 MB/s eta 0:00:05\n",
      "   ----------------------------- ---------- 28.4/38.6 MB 2.5 MB/s eta 0:00:05\n",
      "   ----------------------------- ---------- 28.5/38.6 MB 2.5 MB/s eta 0:00:04\n",
      "   ----------------------------- ---------- 28.7/38.6 MB 2.5 MB/s eta 0:00:04\n",
      "   ----------------------------- ---------- 28.9/38.6 MB 2.5 MB/s eta 0:00:04\n",
      "   ------------------------------ --------- 29.1/38.6 MB 2.5 MB/s eta 0:00:04\n",
      "   ------------------------------ --------- 29.2/38.6 MB 2.5 MB/s eta 0:00:04\n",
      "   ------------------------------ --------- 29.5/38.6 MB 2.6 MB/s eta 0:00:04\n",
      "   ------------------------------ --------- 29.6/38.6 MB 2.6 MB/s eta 0:00:04\n",
      "   ------------------------------ --------- 29.8/38.6 MB 2.6 MB/s eta 0:00:04\n",
      "   ------------------------------- -------- 30.0/38.6 MB 2.7 MB/s eta 0:00:04\n",
      "   ------------------------------- -------- 30.1/38.6 MB 2.7 MB/s eta 0:00:04\n",
      "   ------------------------------- -------- 30.2/38.6 MB 2.7 MB/s eta 0:00:04\n",
      "   ------------------------------- -------- 30.3/38.6 MB 2.7 MB/s eta 0:00:04\n",
      "   ------------------------------- -------- 30.5/38.6 MB 2.8 MB/s eta 0:00:03\n",
      "   ------------------------------- -------- 30.6/38.6 MB 2.8 MB/s eta 0:00:03\n",
      "   ------------------------------- -------- 30.8/38.6 MB 2.8 MB/s eta 0:00:03\n",
      "   ------------------------------- -------- 30.9/38.6 MB 2.8 MB/s eta 0:00:03\n",
      "   -------------------------------- ------- 31.1/38.6 MB 2.8 MB/s eta 0:00:03\n",
      "   -------------------------------- ------- 31.3/38.6 MB 2.9 MB/s eta 0:00:03\n",
      "   -------------------------------- ------- 31.5/38.6 MB 2.9 MB/s eta 0:00:03\n",
      "   -------------------------------- ------- 31.7/38.6 MB 2.9 MB/s eta 0:00:03\n",
      "   -------------------------------- ------- 31.8/38.6 MB 3.0 MB/s eta 0:00:03\n",
      "   --------------------------------- ------ 32.1/38.6 MB 3.1 MB/s eta 0:00:03\n",
      "   --------------------------------- ------ 32.3/38.6 MB 3.1 MB/s eta 0:00:03\n",
      "   --------------------------------- ------ 32.5/38.6 MB 3.2 MB/s eta 0:00:02\n",
      "   --------------------------------- ------ 32.7/38.6 MB 3.2 MB/s eta 0:00:02\n",
      "   ---------------------------------- ----- 32.9/38.6 MB 3.3 MB/s eta 0:00:02\n",
      "   ---------------------------------- ----- 33.1/38.6 MB 3.3 MB/s eta 0:00:02\n",
      "   ---------------------------------- ----- 33.4/38.6 MB 3.4 MB/s eta 0:00:02\n",
      "   ---------------------------------- ----- 33.6/38.6 MB 3.5 MB/s eta 0:00:02\n",
      "   ----------------------------------- ---- 33.9/38.6 MB 3.5 MB/s eta 0:00:02\n",
      "   ----------------------------------- ---- 34.0/38.6 MB 3.6 MB/s eta 0:00:02\n",
      "   ----------------------------------- ---- 34.2/38.6 MB 3.7 MB/s eta 0:00:02\n",
      "   ----------------------------------- ---- 34.5/38.6 MB 3.7 MB/s eta 0:00:02\n",
      "   ----------------------------------- ---- 34.6/38.6 MB 3.8 MB/s eta 0:00:02\n",
      "   ------------------------------------ --- 34.9/38.6 MB 3.9 MB/s eta 0:00:01\n",
      "   ------------------------------------ --- 35.0/38.6 MB 3.9 MB/s eta 0:00:01\n",
      "   ------------------------------------ --- 35.3/38.6 MB 3.9 MB/s eta 0:00:01\n",
      "   ------------------------------------ --- 35.5/38.6 MB 4.0 MB/s eta 0:00:01\n",
      "   ------------------------------------ --- 35.7/38.6 MB 4.0 MB/s eta 0:00:01\n",
      "   ------------------------------------- -- 35.8/38.6 MB 4.0 MB/s eta 0:00:01\n",
      "   ------------------------------------- -- 35.9/38.6 MB 3.9 MB/s eta 0:00:01\n",
      "   ------------------------------------- -- 36.0/38.6 MB 4.0 MB/s eta 0:00:01\n",
      "   ------------------------------------- -- 36.3/38.6 MB 4.0 MB/s eta 0:00:01\n",
      "   ------------------------------------- -- 36.6/38.6 MB 4.1 MB/s eta 0:00:01\n",
      "   -------------------------------------- - 36.8/38.6 MB 4.1 MB/s eta 0:00:01\n",
      "   -------------------------------------- - 37.0/38.6 MB 4.2 MB/s eta 0:00:01\n",
      "   -------------------------------------- - 37.2/38.6 MB 4.3 MB/s eta 0:00:01\n",
      "   -------------------------------------- - 37.5/38.6 MB 4.4 MB/s eta 0:00:01\n",
      "   -------------------------------------- - 37.7/38.6 MB 4.4 MB/s eta 0:00:01\n",
      "   ---------------------------------------  38.0/38.6 MB 4.5 MB/s eta 0:00:01\n",
      "   ---------------------------------------  38.2/38.6 MB 4.6 MB/s eta 0:00:01\n",
      "   ---------------------------------------  38.5/38.6 MB 4.6 MB/s eta 0:00:01\n",
      "   ---------------------------------------  38.6/38.6 MB 4.7 MB/s eta 0:00:01\n",
      "   ---------------------------------------  38.6/38.6 MB 4.7 MB/s eta 0:00:01\n",
      "   ---------------------------------------  38.6/38.6 MB 4.7 MB/s eta 0:00:01\n",
      "   ---------------------------------------- 38.6/38.6 MB 4.5 MB/s eta 0:00:00\n",
      "Downloading threadpoolctl-3.6.0-py3-none-any.whl (18 kB)\n",
      "Installing collected packages: threadpoolctl, scipy, joblib, scikit-learn\n",
      "Successfully installed joblib-1.5.2 scikit-learn-1.7.2 scipy-1.16.1 threadpoolctl-3.6.0\n"
     ]
    },
    {
     "name": "stderr",
     "output_type": "stream",
     "text": [
      "\n",
      "[notice] A new release of pip is available: 24.0 -> 25.2\n",
      "[notice] To update, run: C:\\Users\\user\\AppData\\Local\\Microsoft\\WindowsApps\\PythonSoftwareFoundation.Python.3.11_qbz5n2kfra8p0\\python.exe -m pip install --upgrade pip\n"
     ]
    }
   ],
   "source": [
    "! pip install scikit-learn"
   ]
  },
  {
   "cell_type": "code",
   "execution_count": null,
   "id": "fc78b967",
   "metadata": {},
   "outputs": [],
   "source": []
  }
 ],
 "metadata": {
  "kernelspec": {
   "display_name": "Python 3",
   "language": "python",
   "name": "python3"
  },
  "language_info": {
   "codemirror_mode": {
    "name": "ipython",
    "version": 3
   },
   "file_extension": ".py",
   "mimetype": "text/x-python",
   "name": "python",
   "nbconvert_exporter": "python",
   "pygments_lexer": "ipython3",
   "version": "3.11.9"
  }
 },
 "nbformat": 4,
 "nbformat_minor": 5
}
