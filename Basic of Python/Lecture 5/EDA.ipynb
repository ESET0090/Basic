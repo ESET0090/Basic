{
 "cells": [
  {
   "cell_type": "markdown",
   "id": "31c00ec5",
   "metadata": {},
   "source": [
    "## Exploratory Data Analysis"
   ]
  },
  {
   "cell_type": "code",
   "execution_count": 15,
   "id": "71cef9d5",
   "metadata": {},
   "outputs": [],
   "source": [
    "import pandas as pd\n",
    "import numpy as np"
   ]
  },
  {
   "cell_type": "code",
   "execution_count": 16,
   "id": "f881ef0d",
   "metadata": {},
   "outputs": [],
   "source": [
    "df = pd.read_csv('datasets.csv')"
   ]
  },
  {
   "cell_type": "markdown",
   "id": "934cfff0",
   "metadata": {},
   "source": [
    "# Descriptive Analysis"
   ]
  },
  {
   "cell_type": "code",
   "execution_count": 24,
   "id": "aab084dd",
   "metadata": {},
   "outputs": [
    {
     "data": {
      "text/html": [
       "<div>\n",
       "<style scoped>\n",
       "    .dataframe tbody tr th:only-of-type {\n",
       "        vertical-align: middle;\n",
       "    }\n",
       "\n",
       "    .dataframe tbody tr th {\n",
       "        vertical-align: top;\n",
       "    }\n",
       "\n",
       "    .dataframe thead th {\n",
       "        text-align: right;\n",
       "    }\n",
       "</style>\n",
       "<table border=\"1\" class=\"dataframe\">\n",
       "  <thead>\n",
       "    <tr style=\"text-align: right;\">\n",
       "      <th></th>\n",
       "      <th>datasetName</th>\n",
       "      <th>about</th>\n",
       "      <th>link</th>\n",
       "      <th>categoryName</th>\n",
       "      <th>cloud</th>\n",
       "      <th>vintage</th>\n",
       "    </tr>\n",
       "  </thead>\n",
       "  <tbody>\n",
       "    <tr>\n",
       "      <th>0</th>\n",
       "      <td>Microbiome Project</td>\n",
       "      <td>American Gut (Microbiome Project)</td>\n",
       "      <td>https://github.com/biocore/American-Gut</td>\n",
       "      <td>Biology</td>\n",
       "      <td>GitHub</td>\n",
       "      <td>NaN</td>\n",
       "    </tr>\n",
       "    <tr>\n",
       "      <th>1</th>\n",
       "      <td>GloBI</td>\n",
       "      <td>Global Biotic Interactions (GloBI)</td>\n",
       "      <td>https://github.com/jhpoelen/eol-globi-data/wik...</td>\n",
       "      <td>Biology</td>\n",
       "      <td>GitHub</td>\n",
       "      <td>NaN</td>\n",
       "    </tr>\n",
       "    <tr>\n",
       "      <th>2</th>\n",
       "      <td>Global Climate</td>\n",
       "      <td>Global Climate Data Since 1929</td>\n",
       "      <td>http://en.tutiempo.net/climate</td>\n",
       "      <td>Climate/Weather</td>\n",
       "      <td>NaN</td>\n",
       "      <td>1929.0</td>\n",
       "    </tr>\n",
       "    <tr>\n",
       "      <th>3</th>\n",
       "      <td>CommonCraw 2012</td>\n",
       "      <td>3.5B Web Pages from CommonCraw 2012</td>\n",
       "      <td>http://www.bigdatanews.com/profiles/blogs/big-...</td>\n",
       "      <td>Computer Networks</td>\n",
       "      <td>NaN</td>\n",
       "      <td>2012.0</td>\n",
       "    </tr>\n",
       "    <tr>\n",
       "      <th>4</th>\n",
       "      <td>Indiana Webclicks</td>\n",
       "      <td>53.5B Web clicks of 100K users in Indiana Univ.</td>\n",
       "      <td>http://cnets.indiana.edu/groups/nan/webtraffic...</td>\n",
       "      <td>Computer Networks</td>\n",
       "      <td>NaN</td>\n",
       "      <td>NaN</td>\n",
       "    </tr>\n",
       "  </tbody>\n",
       "</table>\n",
       "</div>"
      ],
      "text/plain": [
       "          datasetName                                            about  \\\n",
       "0  Microbiome Project                American Gut (Microbiome Project)   \n",
       "1               GloBI               Global Biotic Interactions (GloBI)   \n",
       "2      Global Climate                   Global Climate Data Since 1929   \n",
       "3     CommonCraw 2012              3.5B Web Pages from CommonCraw 2012   \n",
       "4   Indiana Webclicks  53.5B Web clicks of 100K users in Indiana Univ.   \n",
       "\n",
       "                                                link       categoryName  \\\n",
       "0            https://github.com/biocore/American-Gut            Biology   \n",
       "1  https://github.com/jhpoelen/eol-globi-data/wik...            Biology   \n",
       "2                     http://en.tutiempo.net/climate    Climate/Weather   \n",
       "3  http://www.bigdatanews.com/profiles/blogs/big-...  Computer Networks   \n",
       "4  http://cnets.indiana.edu/groups/nan/webtraffic...  Computer Networks   \n",
       "\n",
       "    cloud  vintage  \n",
       "0  GitHub      NaN  \n",
       "1  GitHub      NaN  \n",
       "2     NaN   1929.0  \n",
       "3     NaN   2012.0  \n",
       "4     NaN      NaN  "
      ]
     },
     "execution_count": 24,
     "metadata": {},
     "output_type": "execute_result"
    }
   ],
   "source": [
    "df.head()"
   ]
  },
  {
   "cell_type": "code",
   "execution_count": 26,
   "id": "5a77162a",
   "metadata": {},
   "outputs": [
    {
     "data": {
      "text/html": [
       "<div>\n",
       "<style scoped>\n",
       "    .dataframe tbody tr th:only-of-type {\n",
       "        vertical-align: middle;\n",
       "    }\n",
       "\n",
       "    .dataframe tbody tr th {\n",
       "        vertical-align: top;\n",
       "    }\n",
       "\n",
       "    .dataframe thead th {\n",
       "        text-align: right;\n",
       "    }\n",
       "</style>\n",
       "<table border=\"1\" class=\"dataframe\">\n",
       "  <thead>\n",
       "    <tr style=\"text-align: right;\">\n",
       "      <th></th>\n",
       "      <th>datasetName</th>\n",
       "      <th>about</th>\n",
       "      <th>link</th>\n",
       "      <th>categoryName</th>\n",
       "      <th>cloud</th>\n",
       "      <th>vintage</th>\n",
       "    </tr>\n",
       "  </thead>\n",
       "  <tbody>\n",
       "    <tr>\n",
       "      <th>0</th>\n",
       "      <td>Microbiome Project</td>\n",
       "      <td>American Gut (Microbiome Project)</td>\n",
       "      <td>https://github.com/biocore/American-Gut</td>\n",
       "      <td>Biology</td>\n",
       "      <td>GitHub</td>\n",
       "      <td>NaN</td>\n",
       "    </tr>\n",
       "    <tr>\n",
       "      <th>1</th>\n",
       "      <td>GloBI</td>\n",
       "      <td>Global Biotic Interactions (GloBI)</td>\n",
       "      <td>https://github.com/jhpoelen/eol-globi-data/wik...</td>\n",
       "      <td>Biology</td>\n",
       "      <td>GitHub</td>\n",
       "      <td>NaN</td>\n",
       "    </tr>\n",
       "    <tr>\n",
       "      <th>2</th>\n",
       "      <td>Global Climate</td>\n",
       "      <td>Global Climate Data Since 1929</td>\n",
       "      <td>http://en.tutiempo.net/climate</td>\n",
       "      <td>Climate/Weather</td>\n",
       "      <td>NaN</td>\n",
       "      <td>1929.0</td>\n",
       "    </tr>\n",
       "    <tr>\n",
       "      <th>3</th>\n",
       "      <td>CommonCraw 2012</td>\n",
       "      <td>3.5B Web Pages from CommonCraw 2012</td>\n",
       "      <td>http://www.bigdatanews.com/profiles/blogs/big-...</td>\n",
       "      <td>Computer Networks</td>\n",
       "      <td>NaN</td>\n",
       "      <td>2012.0</td>\n",
       "    </tr>\n",
       "    <tr>\n",
       "      <th>4</th>\n",
       "      <td>Indiana Webclicks</td>\n",
       "      <td>53.5B Web clicks of 100K users in Indiana Univ.</td>\n",
       "      <td>http://cnets.indiana.edu/groups/nan/webtraffic...</td>\n",
       "      <td>Computer Networks</td>\n",
       "      <td>NaN</td>\n",
       "      <td>NaN</td>\n",
       "    </tr>\n",
       "    <tr>\n",
       "      <th>5</th>\n",
       "      <td>Criteo click-through</td>\n",
       "      <td>Criteo click-through data</td>\n",
       "      <td>http://labs.criteo.com/2015/03/criteo-releases...</td>\n",
       "      <td>Computer Networks</td>\n",
       "      <td>NaN</td>\n",
       "      <td>NaN</td>\n",
       "    </tr>\n",
       "  </tbody>\n",
       "</table>\n",
       "</div>"
      ],
      "text/plain": [
       "            datasetName                                            about  \\\n",
       "0    Microbiome Project                American Gut (Microbiome Project)   \n",
       "1                 GloBI               Global Biotic Interactions (GloBI)   \n",
       "2        Global Climate                   Global Climate Data Since 1929   \n",
       "3       CommonCraw 2012              3.5B Web Pages from CommonCraw 2012   \n",
       "4     Indiana Webclicks  53.5B Web clicks of 100K users in Indiana Univ.   \n",
       "5  Criteo click-through                        Criteo click-through data   \n",
       "\n",
       "                                                link       categoryName  \\\n",
       "0            https://github.com/biocore/American-Gut            Biology   \n",
       "1  https://github.com/jhpoelen/eol-globi-data/wik...            Biology   \n",
       "2                     http://en.tutiempo.net/climate    Climate/Weather   \n",
       "3  http://www.bigdatanews.com/profiles/blogs/big-...  Computer Networks   \n",
       "4  http://cnets.indiana.edu/groups/nan/webtraffic...  Computer Networks   \n",
       "5  http://labs.criteo.com/2015/03/criteo-releases...  Computer Networks   \n",
       "\n",
       "    cloud  vintage  \n",
       "0  GitHub      NaN  \n",
       "1  GitHub      NaN  \n",
       "2     NaN   1929.0  \n",
       "3     NaN   2012.0  \n",
       "4     NaN      NaN  \n",
       "5     NaN      NaN  "
      ]
     },
     "execution_count": 26,
     "metadata": {},
     "output_type": "execute_result"
    }
   ],
   "source": [
    "df.head(6)"
   ]
  },
  {
   "cell_type": "code",
   "execution_count": 25,
   "id": "80fb54e4",
   "metadata": {},
   "outputs": [
    {
     "data": {
      "text/html": [
       "<div>\n",
       "<style scoped>\n",
       "    .dataframe tbody tr th:only-of-type {\n",
       "        vertical-align: middle;\n",
       "    }\n",
       "\n",
       "    .dataframe tbody tr th {\n",
       "        vertical-align: top;\n",
       "    }\n",
       "\n",
       "    .dataframe thead th {\n",
       "        text-align: right;\n",
       "    }\n",
       "</style>\n",
       "<table border=\"1\" class=\"dataframe\">\n",
       "  <thead>\n",
       "    <tr style=\"text-align: right;\">\n",
       "      <th></th>\n",
       "      <th>datasetName</th>\n",
       "      <th>about</th>\n",
       "      <th>link</th>\n",
       "      <th>categoryName</th>\n",
       "      <th>cloud</th>\n",
       "      <th>vintage</th>\n",
       "    </tr>\n",
       "  </thead>\n",
       "  <tbody>\n",
       "    <tr>\n",
       "      <th>55</th>\n",
       "      <td>ClueWeb09 FACC</td>\n",
       "      <td>ClueWeb09 FACC</td>\n",
       "      <td>http://lemurproject.org/clueweb09/FACC1/</td>\n",
       "      <td>Natural Language</td>\n",
       "      <td>NaN</td>\n",
       "      <td>2009.0</td>\n",
       "    </tr>\n",
       "    <tr>\n",
       "      <th>56</th>\n",
       "      <td>ClueWeb12 FACC</td>\n",
       "      <td>ClueWeb12 FACC</td>\n",
       "      <td>http://lemurproject.org/clueweb12/FACC1/</td>\n",
       "      <td>Natural Language</td>\n",
       "      <td>NaN</td>\n",
       "      <td>2012.0</td>\n",
       "    </tr>\n",
       "    <tr>\n",
       "      <th>57</th>\n",
       "      <td>Google Ngrams</td>\n",
       "      <td>Google Books Ngrams (2.2TB)</td>\n",
       "      <td>https://aws.amazon.com/datasets/google-books-n...</td>\n",
       "      <td>Natural Language</td>\n",
       "      <td>Amazon</td>\n",
       "      <td>NaN</td>\n",
       "    </tr>\n",
       "    <tr>\n",
       "      <th>58</th>\n",
       "      <td>EDRM Enron</td>\n",
       "      <td>EDRM Enron EMail of 151 users, hosted on S3</td>\n",
       "      <td>https://aws.amazon.com/datasets/enron-email-data/</td>\n",
       "      <td>Social Networks</td>\n",
       "      <td>Amazon</td>\n",
       "      <td>NaN</td>\n",
       "    </tr>\n",
       "    <tr>\n",
       "      <th>59</th>\n",
       "      <td>GetGlue</td>\n",
       "      <td>GetGlue - users rating TV shows</td>\n",
       "      <td>http://getglue-data.s3.amazonaws.com/getglue_s...</td>\n",
       "      <td>Social Networks</td>\n",
       "      <td>NaN</td>\n",
       "      <td>NaN</td>\n",
       "    </tr>\n",
       "    <tr>\n",
       "      <th>60</th>\n",
       "      <td>Twitter RepLab</td>\n",
       "      <td>Twitter Data for Online Reputation Management</td>\n",
       "      <td>http://nlp.uned.es/replab2013/</td>\n",
       "      <td>Social Networks</td>\n",
       "      <td>NaN</td>\n",
       "      <td>2013.0</td>\n",
       "    </tr>\n",
       "  </tbody>\n",
       "</table>\n",
       "</div>"
      ],
      "text/plain": [
       "       datasetName                                          about  \\\n",
       "55  ClueWeb09 FACC                                 ClueWeb09 FACC   \n",
       "56  ClueWeb12 FACC                                 ClueWeb12 FACC   \n",
       "57   Google Ngrams                    Google Books Ngrams (2.2TB)   \n",
       "58      EDRM Enron    EDRM Enron EMail of 151 users, hosted on S3   \n",
       "59         GetGlue                GetGlue - users rating TV shows   \n",
       "60  Twitter RepLab  Twitter Data for Online Reputation Management   \n",
       "\n",
       "                                                 link      categoryName  \\\n",
       "55           http://lemurproject.org/clueweb09/FACC1/  Natural Language   \n",
       "56           http://lemurproject.org/clueweb12/FACC1/  Natural Language   \n",
       "57  https://aws.amazon.com/datasets/google-books-n...  Natural Language   \n",
       "58  https://aws.amazon.com/datasets/enron-email-data/   Social Networks   \n",
       "59  http://getglue-data.s3.amazonaws.com/getglue_s...   Social Networks   \n",
       "60                     http://nlp.uned.es/replab2013/   Social Networks   \n",
       "\n",
       "     cloud  vintage  \n",
       "55     NaN   2009.0  \n",
       "56     NaN   2012.0  \n",
       "57  Amazon      NaN  \n",
       "58  Amazon      NaN  \n",
       "59     NaN      NaN  \n",
       "60     NaN   2013.0  "
      ]
     },
     "execution_count": 25,
     "metadata": {},
     "output_type": "execute_result"
    }
   ],
   "source": [
    "df.tail(6)"
   ]
  },
  {
   "cell_type": "code",
   "execution_count": 9,
   "id": "c8cbdcac",
   "metadata": {},
   "outputs": [
    {
     "name": "stdout",
     "output_type": "stream",
     "text": [
      "(61, 6)\n"
     ]
    }
   ],
   "source": [
    "print(df.shape)"
   ]
  },
  {
   "cell_type": "code",
   "execution_count": 10,
   "id": "f4f7dab0",
   "metadata": {},
   "outputs": [
    {
     "name": "stdout",
     "output_type": "stream",
     "text": [
      "datasetName      object\n",
      "about            object\n",
      "link             object\n",
      "categoryName     object\n",
      "cloud            object\n",
      "vintage         float64\n",
      "dtype: object\n"
     ]
    }
   ],
   "source": [
    "print(df.dtypes)"
   ]
  },
  {
   "cell_type": "code",
   "execution_count": 11,
   "id": "5d54cf49",
   "metadata": {},
   "outputs": [
    {
     "name": "stdout",
     "output_type": "stream",
     "text": [
      "<class 'pandas.core.frame.DataFrame'>\n",
      "RangeIndex: 61 entries, 0 to 60\n",
      "Data columns (total 6 columns):\n",
      " #   Column        Non-Null Count  Dtype  \n",
      "---  ------        --------------  -----  \n",
      " 0   datasetName   61 non-null     object \n",
      " 1   about         61 non-null     object \n",
      " 2   link          61 non-null     object \n",
      " 3   categoryName  61 non-null     object \n",
      " 4   cloud         24 non-null     object \n",
      " 5   vintage       31 non-null     float64\n",
      "dtypes: float64(1), object(5)\n",
      "memory usage: 3.0+ KB\n",
      "None\n"
     ]
    }
   ],
   "source": [
    "print(df.info())"
   ]
  },
  {
   "cell_type": "code",
   "execution_count": 18,
   "id": "481083ae",
   "metadata": {},
   "outputs": [],
   "source": [
    "df1 = df.drop(['cloud'], axis=1)"
   ]
  },
  {
   "cell_type": "code",
   "execution_count": 19,
   "id": "a02bb603",
   "metadata": {},
   "outputs": [
    {
     "name": "stdout",
     "output_type": "stream",
     "text": [
      "          datasetName                                            about  \\\n",
      "0  Microbiome Project                American Gut (Microbiome Project)   \n",
      "1               GloBI               Global Biotic Interactions (GloBI)   \n",
      "2      Global Climate                   Global Climate Data Since 1929   \n",
      "3     CommonCraw 2012              3.5B Web Pages from CommonCraw 2012   \n",
      "4   Indiana Webclicks  53.5B Web clicks of 100K users in Indiana Univ.   \n",
      "\n",
      "                                                link       categoryName  \\\n",
      "0            https://github.com/biocore/American-Gut            Biology   \n",
      "1  https://github.com/jhpoelen/eol-globi-data/wik...            Biology   \n",
      "2                     http://en.tutiempo.net/climate    Climate/Weather   \n",
      "3  http://www.bigdatanews.com/profiles/blogs/big-...  Computer Networks   \n",
      "4  http://cnets.indiana.edu/groups/nan/webtraffic...  Computer Networks   \n",
      "\n",
      "   vintage  \n",
      "0      NaN  \n",
      "1      NaN  \n",
      "2   1929.0  \n",
      "3   2012.0  \n",
      "4      NaN  \n"
     ]
    }
   ],
   "source": [
    "print(df1.head())"
   ]
  },
  {
   "cell_type": "code",
   "execution_count": 20,
   "id": "faac8805",
   "metadata": {},
   "outputs": [
    {
     "data": {
      "text/html": [
       "<div>\n",
       "<style scoped>\n",
       "    .dataframe tbody tr th:only-of-type {\n",
       "        vertical-align: middle;\n",
       "    }\n",
       "\n",
       "    .dataframe tbody tr th {\n",
       "        vertical-align: top;\n",
       "    }\n",
       "\n",
       "    .dataframe thead th {\n",
       "        text-align: right;\n",
       "    }\n",
       "</style>\n",
       "<table border=\"1\" class=\"dataframe\">\n",
       "  <thead>\n",
       "    <tr style=\"text-align: right;\">\n",
       "      <th></th>\n",
       "      <th>datasetName</th>\n",
       "      <th>about</th>\n",
       "      <th>link</th>\n",
       "      <th>categoryName</th>\n",
       "      <th>vintage</th>\n",
       "    </tr>\n",
       "  </thead>\n",
       "  <tbody>\n",
       "    <tr>\n",
       "      <th>0</th>\n",
       "      <td>Microbiome Project</td>\n",
       "      <td>American Gut (Microbiome Project)</td>\n",
       "      <td>https://github.com/biocore/American-Gut</td>\n",
       "      <td>Biology</td>\n",
       "      <td>NaN</td>\n",
       "    </tr>\n",
       "    <tr>\n",
       "      <th>1</th>\n",
       "      <td>GloBI</td>\n",
       "      <td>Global Biotic Interactions (GloBI)</td>\n",
       "      <td>https://github.com/jhpoelen/eol-globi-data/wik...</td>\n",
       "      <td>Biology</td>\n",
       "      <td>NaN</td>\n",
       "    </tr>\n",
       "    <tr>\n",
       "      <th>2</th>\n",
       "      <td>Global Climate</td>\n",
       "      <td>Global Climate Data Since 1929</td>\n",
       "      <td>http://en.tutiempo.net/climate</td>\n",
       "      <td>Climate/Weather</td>\n",
       "      <td>1929.0</td>\n",
       "    </tr>\n",
       "    <tr>\n",
       "      <th>3</th>\n",
       "      <td>CommonCraw 2012</td>\n",
       "      <td>3.5B Web Pages from CommonCraw 2012</td>\n",
       "      <td>http://www.bigdatanews.com/profiles/blogs/big-...</td>\n",
       "      <td>Computer Networks</td>\n",
       "      <td>2012.0</td>\n",
       "    </tr>\n",
       "    <tr>\n",
       "      <th>4</th>\n",
       "      <td>Indiana Webclicks</td>\n",
       "      <td>53.5B Web clicks of 100K users in Indiana Univ.</td>\n",
       "      <td>http://cnets.indiana.edu/groups/nan/webtraffic...</td>\n",
       "      <td>Computer Networks</td>\n",
       "      <td>NaN</td>\n",
       "    </tr>\n",
       "  </tbody>\n",
       "</table>\n",
       "</div>"
      ],
      "text/plain": [
       "          datasetName                                            about  \\\n",
       "0  Microbiome Project                American Gut (Microbiome Project)   \n",
       "1               GloBI               Global Biotic Interactions (GloBI)   \n",
       "2      Global Climate                   Global Climate Data Since 1929   \n",
       "3     CommonCraw 2012              3.5B Web Pages from CommonCraw 2012   \n",
       "4   Indiana Webclicks  53.5B Web clicks of 100K users in Indiana Univ.   \n",
       "\n",
       "                                                link       categoryName  \\\n",
       "0            https://github.com/biocore/American-Gut            Biology   \n",
       "1  https://github.com/jhpoelen/eol-globi-data/wik...            Biology   \n",
       "2                     http://en.tutiempo.net/climate    Climate/Weather   \n",
       "3  http://www.bigdatanews.com/profiles/blogs/big-...  Computer Networks   \n",
       "4  http://cnets.indiana.edu/groups/nan/webtraffic...  Computer Networks   \n",
       "\n",
       "   vintage  \n",
       "0      NaN  \n",
       "1      NaN  \n",
       "2   1929.0  \n",
       "3   2012.0  \n",
       "4      NaN  "
      ]
     },
     "execution_count": 20,
     "metadata": {},
     "output_type": "execute_result"
    }
   ],
   "source": [
    "df1.head()"
   ]
  },
  {
   "cell_type": "code",
   "execution_count": null,
   "id": "2eeb7190",
   "metadata": {},
   "outputs": [
    {
     "ename": "TypeError",
     "evalue": "'int' object is not callable",
     "output_type": "error",
     "traceback": [
      "\u001b[31m---------------------------------------------------------------------------\u001b[39m",
      "\u001b[31mTypeError\u001b[39m                                 Traceback (most recent call last)",
      "\u001b[36mCell\u001b[39m\u001b[36m \u001b[39m\u001b[32mIn[21]\u001b[39m\u001b[32m, line 1\u001b[39m\n\u001b[32m----> \u001b[39m\u001b[32m1\u001b[39m \u001b[43mdf1\u001b[49m\u001b[43m.\u001b[49m\u001b[43msize\u001b[49m\u001b[43m(\u001b[49m\u001b[43m)\u001b[49m\n",
      "\u001b[31mTypeError\u001b[39m: 'int' object is not callable"
     ]
    }
   ],
   "source": []
  },
  {
   "cell_type": "code",
   "execution_count": 22,
   "id": "3b373e0a",
   "metadata": {},
   "outputs": [
    {
     "name": "stdout",
     "output_type": "stream",
     "text": [
      "(61, 5)\n"
     ]
    }
   ],
   "source": [
    "print(df1.shape)"
   ]
  },
  {
   "cell_type": "markdown",
   "id": "b1027c7c",
   "metadata": {},
   "source": [
    "## Statistical Analysis"
   ]
  },
  {
   "cell_type": "code",
   "execution_count": 23,
   "id": "47b81a07",
   "metadata": {},
   "outputs": [
    {
     "data": {
      "text/html": [
       "<div>\n",
       "<style scoped>\n",
       "    .dataframe tbody tr th:only-of-type {\n",
       "        vertical-align: middle;\n",
       "    }\n",
       "\n",
       "    .dataframe tbody tr th {\n",
       "        vertical-align: top;\n",
       "    }\n",
       "\n",
       "    .dataframe thead th {\n",
       "        text-align: right;\n",
       "    }\n",
       "</style>\n",
       "<table border=\"1\" class=\"dataframe\">\n",
       "  <thead>\n",
       "    <tr style=\"text-align: right;\">\n",
       "      <th></th>\n",
       "      <th>vintage</th>\n",
       "    </tr>\n",
       "  </thead>\n",
       "  <tbody>\n",
       "    <tr>\n",
       "      <th>count</th>\n",
       "      <td>31.000000</td>\n",
       "    </tr>\n",
       "    <tr>\n",
       "      <th>mean</th>\n",
       "      <td>2000.677419</td>\n",
       "    </tr>\n",
       "    <tr>\n",
       "      <th>std</th>\n",
       "      <td>24.436840</td>\n",
       "    </tr>\n",
       "    <tr>\n",
       "      <th>min</th>\n",
       "      <td>1920.000000</td>\n",
       "    </tr>\n",
       "    <tr>\n",
       "      <th>25%</th>\n",
       "      <td>2006.500000</td>\n",
       "    </tr>\n",
       "    <tr>\n",
       "      <th>50%</th>\n",
       "      <td>2009.000000</td>\n",
       "    </tr>\n",
       "    <tr>\n",
       "      <th>75%</th>\n",
       "      <td>2012.000000</td>\n",
       "    </tr>\n",
       "    <tr>\n",
       "      <th>max</th>\n",
       "      <td>2016.000000</td>\n",
       "    </tr>\n",
       "  </tbody>\n",
       "</table>\n",
       "</div>"
      ],
      "text/plain": [
       "           vintage\n",
       "count    31.000000\n",
       "mean   2000.677419\n",
       "std      24.436840\n",
       "min    1920.000000\n",
       "25%    2006.500000\n",
       "50%    2009.000000\n",
       "75%    2012.000000\n",
       "max    2016.000000"
      ]
     },
     "execution_count": 23,
     "metadata": {},
     "output_type": "execute_result"
    }
   ],
   "source": [
    "df1.describe()"
   ]
  },
  {
   "cell_type": "markdown",
   "id": "c9218689",
   "metadata": {},
   "source": [
    "# Renaming the column"
   ]
  },
  {
   "cell_type": "code",
   "execution_count": 27,
   "id": "edd11a01",
   "metadata": {},
   "outputs": [],
   "source": [
    "df1 = df1.rename(columns={'link': 'link1'})"
   ]
  },
  {
   "cell_type": "code",
   "execution_count": 29,
   "id": "a3d64b75",
   "metadata": {},
   "outputs": [
    {
     "data": {
      "text/html": [
       "<div>\n",
       "<style scoped>\n",
       "    .dataframe tbody tr th:only-of-type {\n",
       "        vertical-align: middle;\n",
       "    }\n",
       "\n",
       "    .dataframe tbody tr th {\n",
       "        vertical-align: top;\n",
       "    }\n",
       "\n",
       "    .dataframe thead th {\n",
       "        text-align: right;\n",
       "    }\n",
       "</style>\n",
       "<table border=\"1\" class=\"dataframe\">\n",
       "  <thead>\n",
       "    <tr style=\"text-align: right;\">\n",
       "      <th></th>\n",
       "      <th>datasetName</th>\n",
       "      <th>about</th>\n",
       "      <th>link1</th>\n",
       "      <th>categoryName</th>\n",
       "      <th>vintage</th>\n",
       "    </tr>\n",
       "  </thead>\n",
       "  <tbody>\n",
       "    <tr>\n",
       "      <th>0</th>\n",
       "      <td>Microbiome Project</td>\n",
       "      <td>American Gut (Microbiome Project)</td>\n",
       "      <td>https://github.com/biocore/American-Gut</td>\n",
       "      <td>Biology</td>\n",
       "      <td>NaN</td>\n",
       "    </tr>\n",
       "    <tr>\n",
       "      <th>1</th>\n",
       "      <td>GloBI</td>\n",
       "      <td>Global Biotic Interactions (GloBI)</td>\n",
       "      <td>https://github.com/jhpoelen/eol-globi-data/wik...</td>\n",
       "      <td>Biology</td>\n",
       "      <td>NaN</td>\n",
       "    </tr>\n",
       "    <tr>\n",
       "      <th>2</th>\n",
       "      <td>Global Climate</td>\n",
       "      <td>Global Climate Data Since 1929</td>\n",
       "      <td>http://en.tutiempo.net/climate</td>\n",
       "      <td>Climate/Weather</td>\n",
       "      <td>1929.0</td>\n",
       "    </tr>\n",
       "    <tr>\n",
       "      <th>3</th>\n",
       "      <td>CommonCraw 2012</td>\n",
       "      <td>3.5B Web Pages from CommonCraw 2012</td>\n",
       "      <td>http://www.bigdatanews.com/profiles/blogs/big-...</td>\n",
       "      <td>Computer Networks</td>\n",
       "      <td>2012.0</td>\n",
       "    </tr>\n",
       "    <tr>\n",
       "      <th>4</th>\n",
       "      <td>Indiana Webclicks</td>\n",
       "      <td>53.5B Web clicks of 100K users in Indiana Univ.</td>\n",
       "      <td>http://cnets.indiana.edu/groups/nan/webtraffic...</td>\n",
       "      <td>Computer Networks</td>\n",
       "      <td>NaN</td>\n",
       "    </tr>\n",
       "  </tbody>\n",
       "</table>\n",
       "</div>"
      ],
      "text/plain": [
       "          datasetName                                            about  \\\n",
       "0  Microbiome Project                American Gut (Microbiome Project)   \n",
       "1               GloBI               Global Biotic Interactions (GloBI)   \n",
       "2      Global Climate                   Global Climate Data Since 1929   \n",
       "3     CommonCraw 2012              3.5B Web Pages from CommonCraw 2012   \n",
       "4   Indiana Webclicks  53.5B Web clicks of 100K users in Indiana Univ.   \n",
       "\n",
       "                                               link1       categoryName  \\\n",
       "0            https://github.com/biocore/American-Gut            Biology   \n",
       "1  https://github.com/jhpoelen/eol-globi-data/wik...            Biology   \n",
       "2                     http://en.tutiempo.net/climate    Climate/Weather   \n",
       "3  http://www.bigdatanews.com/profiles/blogs/big-...  Computer Networks   \n",
       "4  http://cnets.indiana.edu/groups/nan/webtraffic...  Computer Networks   \n",
       "\n",
       "   vintage  \n",
       "0      NaN  \n",
       "1      NaN  \n",
       "2   1929.0  \n",
       "3   2012.0  \n",
       "4      NaN  "
      ]
     },
     "execution_count": 29,
     "metadata": {},
     "output_type": "execute_result"
    }
   ],
   "source": [
    "df1.head()"
   ]
  },
  {
   "cell_type": "code",
   "execution_count": 30,
   "id": "7cf1f760",
   "metadata": {},
   "outputs": [
    {
     "data": {
      "text/plain": [
       "(61, 5)"
      ]
     },
     "execution_count": 30,
     "metadata": {},
     "output_type": "execute_result"
    }
   ],
   "source": [
    "df1.shape"
   ]
  },
  {
   "cell_type": "markdown",
   "id": "a1d839a1",
   "metadata": {},
   "source": [
    "### Dropping the duplicate rows"
   ]
  },
  {
   "cell_type": "code",
   "execution_count": 31,
   "id": "4984973b",
   "metadata": {},
   "outputs": [
    {
     "name": "stdout",
     "output_type": "stream",
     "text": [
      "Number of duplicate rows:  (0, 5)\n"
     ]
    }
   ],
   "source": [
    "duplicate_rows_df = df1[df1.duplicated()]\n",
    "print(\"Number of duplicate rows: \", duplicate_rows_df.shape)"
   ]
  },
  {
   "cell_type": "markdown",
   "id": "9aa3bf89",
   "metadata": {},
   "source": [
    "### Missing values"
   ]
  },
  {
   "cell_type": "code",
   "execution_count": 34,
   "id": "3122ec0b",
   "metadata": {},
   "outputs": [
    {
     "name": "stdout",
     "output_type": "stream",
     "text": [
      "datasetName      0\n",
      "about            0\n",
      "link1            0\n",
      "categoryName     0\n",
      "vintage         30\n",
      "dtype: int64\n"
     ]
    }
   ],
   "source": [
    "print(df1.isnull().sum())"
   ]
  },
  {
   "cell_type": "code",
   "execution_count": 39,
   "id": "afb8b982",
   "metadata": {},
   "outputs": [],
   "source": [
    "df1 = df1.dropna()"
   ]
  },
  {
   "cell_type": "code",
   "execution_count": 40,
   "id": "abb680a5",
   "metadata": {},
   "outputs": [
    {
     "data": {
      "text/plain": [
       "(31, 5)"
      ]
     },
     "execution_count": 40,
     "metadata": {},
     "output_type": "execute_result"
    }
   ],
   "source": [
    "df1.shape"
   ]
  },
  {
   "cell_type": "code",
   "execution_count": 41,
   "id": "9798ba1b",
   "metadata": {},
   "outputs": [
    {
     "name": "stdout",
     "output_type": "stream",
     "text": [
      "datasetName      0\n",
      "about            0\n",
      "link             0\n",
      "categoryName     0\n",
      "cloud           37\n",
      "vintage         30\n",
      "dtype: int64\n"
     ]
    }
   ],
   "source": [
    "print(df.isnull().sum())"
   ]
  },
  {
   "cell_type": "code",
   "execution_count": 42,
   "id": "d8dbb40d",
   "metadata": {},
   "outputs": [],
   "source": [
    "df = df.dropna()"
   ]
  },
  {
   "cell_type": "code",
   "execution_count": 43,
   "id": "2ac70028",
   "metadata": {},
   "outputs": [
    {
     "data": {
      "text/plain": [
       "(2, 6)"
      ]
     },
     "execution_count": 43,
     "metadata": {},
     "output_type": "execute_result"
    }
   ],
   "source": [
    "df.shape"
   ]
  },
  {
   "cell_type": "code",
   "execution_count": 44,
   "id": "c2ad853b",
   "metadata": {},
   "outputs": [
    {
     "data": {
      "text/html": [
       "<div>\n",
       "<style scoped>\n",
       "    .dataframe tbody tr th:only-of-type {\n",
       "        vertical-align: middle;\n",
       "    }\n",
       "\n",
       "    .dataframe tbody tr th {\n",
       "        vertical-align: top;\n",
       "    }\n",
       "\n",
       "    .dataframe thead th {\n",
       "        text-align: right;\n",
       "    }\n",
       "</style>\n",
       "<table border=\"1\" class=\"dataframe\">\n",
       "  <thead>\n",
       "    <tr style=\"text-align: right;\">\n",
       "      <th></th>\n",
       "      <th>datasetName</th>\n",
       "      <th>about</th>\n",
       "      <th>link</th>\n",
       "      <th>categoryName</th>\n",
       "      <th>cloud</th>\n",
       "      <th>vintage</th>\n",
       "    </tr>\n",
       "  </thead>\n",
       "  <tbody>\n",
       "    <tr>\n",
       "      <th>32</th>\n",
       "      <td>FBI Hate Crime 2013</td>\n",
       "      <td>FBI Hate Crime 2013 - aggregated data</td>\n",
       "      <td>https://github.com/emorisse/FBI-Hate-Crime-Sta...</td>\n",
       "      <td>Social Sciences</td>\n",
       "      <td>GitHub</td>\n",
       "      <td>2013.0</td>\n",
       "    </tr>\n",
       "    <tr>\n",
       "      <th>41</th>\n",
       "      <td>NYC Uber</td>\n",
       "      <td>NYC Uber trip data April 2014 to September 2014</td>\n",
       "      <td>https://github.com/fivethirtyeight/uber-tlc-fo...</td>\n",
       "      <td>Transportation</td>\n",
       "      <td>GitHub</td>\n",
       "      <td>2014.0</td>\n",
       "    </tr>\n",
       "  </tbody>\n",
       "</table>\n",
       "</div>"
      ],
      "text/plain": [
       "            datasetName                                            about  \\\n",
       "32  FBI Hate Crime 2013            FBI Hate Crime 2013 - aggregated data   \n",
       "41             NYC Uber  NYC Uber trip data April 2014 to September 2014   \n",
       "\n",
       "                                                 link     categoryName  \\\n",
       "32  https://github.com/emorisse/FBI-Hate-Crime-Sta...  Social Sciences   \n",
       "41  https://github.com/fivethirtyeight/uber-tlc-fo...   Transportation   \n",
       "\n",
       "     cloud  vintage  \n",
       "32  GitHub   2013.0  \n",
       "41  GitHub   2014.0  "
      ]
     },
     "execution_count": 44,
     "metadata": {},
     "output_type": "execute_result"
    }
   ],
   "source": [
    "df"
   ]
  },
  {
   "cell_type": "code",
   "execution_count": 45,
   "id": "e853fd40",
   "metadata": {},
   "outputs": [],
   "source": [
    "df2 = df.drop(['datasetName'], axis=1)"
   ]
  },
  {
   "cell_type": "code",
   "execution_count": 46,
   "id": "0fed313f",
   "metadata": {},
   "outputs": [
    {
     "data": {
      "text/html": [
       "<div>\n",
       "<style scoped>\n",
       "    .dataframe tbody tr th:only-of-type {\n",
       "        vertical-align: middle;\n",
       "    }\n",
       "\n",
       "    .dataframe tbody tr th {\n",
       "        vertical-align: top;\n",
       "    }\n",
       "\n",
       "    .dataframe thead th {\n",
       "        text-align: right;\n",
       "    }\n",
       "</style>\n",
       "<table border=\"1\" class=\"dataframe\">\n",
       "  <thead>\n",
       "    <tr style=\"text-align: right;\">\n",
       "      <th></th>\n",
       "      <th>about</th>\n",
       "      <th>link</th>\n",
       "      <th>categoryName</th>\n",
       "      <th>cloud</th>\n",
       "      <th>vintage</th>\n",
       "    </tr>\n",
       "  </thead>\n",
       "  <tbody>\n",
       "    <tr>\n",
       "      <th>32</th>\n",
       "      <td>FBI Hate Crime 2013 - aggregated data</td>\n",
       "      <td>https://github.com/emorisse/FBI-Hate-Crime-Sta...</td>\n",
       "      <td>Social Sciences</td>\n",
       "      <td>GitHub</td>\n",
       "      <td>2013.0</td>\n",
       "    </tr>\n",
       "    <tr>\n",
       "      <th>41</th>\n",
       "      <td>NYC Uber trip data April 2014 to September 2014</td>\n",
       "      <td>https://github.com/fivethirtyeight/uber-tlc-fo...</td>\n",
       "      <td>Transportation</td>\n",
       "      <td>GitHub</td>\n",
       "      <td>2014.0</td>\n",
       "    </tr>\n",
       "  </tbody>\n",
       "</table>\n",
       "</div>"
      ],
      "text/plain": [
       "                                              about  \\\n",
       "32            FBI Hate Crime 2013 - aggregated data   \n",
       "41  NYC Uber trip data April 2014 to September 2014   \n",
       "\n",
       "                                                 link     categoryName  \\\n",
       "32  https://github.com/emorisse/FBI-Hate-Crime-Sta...  Social Sciences   \n",
       "41  https://github.com/fivethirtyeight/uber-tlc-fo...   Transportation   \n",
       "\n",
       "     cloud  vintage  \n",
       "32  GitHub   2013.0  \n",
       "41  GitHub   2014.0  "
      ]
     },
     "execution_count": 46,
     "metadata": {},
     "output_type": "execute_result"
    }
   ],
   "source": [
    "df2.head()"
   ]
  },
  {
   "cell_type": "code",
   "execution_count": 47,
   "id": "a85c37da",
   "metadata": {},
   "outputs": [
    {
     "name": "stdout",
     "output_type": "stream",
     "text": [
      "<class 'pandas.core.frame.DataFrame'>\n",
      "Index: 2 entries, 32 to 41\n",
      "Data columns (total 5 columns):\n",
      " #   Column        Non-Null Count  Dtype  \n",
      "---  ------        --------------  -----  \n",
      " 0   about         2 non-null      object \n",
      " 1   link          2 non-null      object \n",
      " 2   categoryName  2 non-null      object \n",
      " 3   cloud         2 non-null      object \n",
      " 4   vintage       2 non-null      float64\n",
      "dtypes: float64(1), object(4)\n",
      "memory usage: 96.0+ bytes\n"
     ]
    }
   ],
   "source": [
    "df2.info()"
   ]
  },
  {
   "cell_type": "code",
   "execution_count": null,
   "id": "c2d96af7",
   "metadata": {},
   "outputs": [],
   "source": []
  },
  {
   "cell_type": "markdown",
   "id": "49db1bb2",
   "metadata": {},
   "source": []
  },
  {
   "cell_type": "code",
   "execution_count": null,
   "id": "e009049e",
   "metadata": {},
   "outputs": [],
   "source": []
  },
  {
   "cell_type": "code",
   "execution_count": null,
   "id": "16a5e180",
   "metadata": {},
   "outputs": [],
   "source": []
  },
  {
   "cell_type": "code",
   "execution_count": null,
   "id": "8a13ef41",
   "metadata": {},
   "outputs": [],
   "source": []
  },
  {
   "cell_type": "code",
   "execution_count": null,
   "id": "0bd903b7",
   "metadata": {},
   "outputs": [],
   "source": []
  },
  {
   "cell_type": "code",
   "execution_count": null,
   "id": "7f3f59db",
   "metadata": {},
   "outputs": [],
   "source": []
  }
 ],
 "metadata": {
  "kernelspec": {
   "display_name": "Python 3",
   "language": "python",
   "name": "python3"
  },
  "language_info": {
   "codemirror_mode": {
    "name": "ipython",
    "version": 3
   },
   "file_extension": ".py",
   "mimetype": "text/x-python",
   "name": "python",
   "nbconvert_exporter": "python",
   "pygments_lexer": "ipython3",
   "version": "3.11.9"
  }
 },
 "nbformat": 4,
 "nbformat_minor": 5
}
